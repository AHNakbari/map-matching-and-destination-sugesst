{
 "cells": [
  {
   "cell_type": "markdown",
   "metadata": {
    "pycharm": {
     "name": "#%% md\n"
    }
   },
   "source": [
    "# AI Project - Phase 2 (Destination Suggestion)\n",
    "<div style=\"text-align: center\">\n",
    "<h1 style = \"color: red\"> Sharif University Of Technology</h1>\n",
    "<h2 style = \"color: green\"> DR. Mahdieh Soleymani | DR. MohammadHossein Rohban </h2>\n",
    "<h3 style = \"color: cyan\"> Head of Project: AmirHossein Razlighi <h3>\n",
    "<h3 style = \"color: cyan\"> Designed By: AmirHossein Razlighi, Javad Hezareh, Payam Taebi, Alireza Sakhaei, Ali Banayeean, Yalda Shabanzadeh, Hamidreza Yaghoubi, Alireza Heidari <h3>\n",
    "<h4 style = \"color: white\"> Ask your questions via quera</h4>\n",
    "<h5> Save your file with format: STUDENT NUMBER_Phase2.ipynb or .zip </h5>\n",
    "</div>"
   ]
  },
  {
   "cell_type": "markdown",
   "metadata": {
    "pycharm": {
     "name": "#%% md\n"
    }
   },
   "source": [
    "## Overview"
   ]
  },
  {
   "cell_type": "markdown",
   "metadata": {
    "pycharm": {
     "name": "#%% md\n"
    }
   },
   "source": [
    "<div style=\"text-align: center\">\n",
    "<img src=\"./Images/Uber_research.jpg\" width=\"100%\" height=\"auto\" />\n",
    "</div>"
   ]
  },
  {
   "cell_type": "markdown",
   "metadata": {
    "pycharm": {
     "name": "#%% md\n"
    }
   },
   "source": [
    "Suppose you are a research engineer at Uber and you are asked to design a system that suggests destinations to the passengers. The system should be able to suggest destinations based on the passenger's history. For example, one passenger may save a variety of locations (like home, work, gym, etc.). This passenger may go to gym, often on weekends and when he/she requests a car from Home. \n",
    "\n",
    "So, for example, if I am a student, going to university usually from Saturday to Wednesday on 8:00 from \"home\", the next time I request a car from \"home\" on 8:00, the system should suggest \"university\" as the destination. Now, it's not that simple always, so we should seek for smart wayys to solve this problem!\n",
    "\n",
    "As you may understood by now, we should engineer some of features from the data we have and try to predict the next destination of the passenger.\n",
    "\n",
    "Let's begin!"
   ]
  },
  {
   "cell_type": "markdown",
   "metadata": {
    "pycharm": {
     "name": "#%% md\n"
    }
   },
   "source": [
    "## Setup"
   ]
  },
  {
   "cell_type": "code",
   "execution_count": 1,
   "outputs": [
    {
     "name": "stdout",
     "output_type": "stream",
     "text": [
      "Requirement already satisfied: xgboost in c:\\users\\mobilee\\appdata\\local\\programs\\python\\python38\\lib\\site-packages (2.0.3)\n",
      "Requirement already satisfied: numpy in c:\\users\\mobilee\\appdata\\local\\programs\\python\\python38\\lib\\site-packages (from xgboost) (1.24.4)\n",
      "Requirement already satisfied: scipy in c:\\users\\mobilee\\appdata\\local\\programs\\python\\python38\\lib\\site-packages (from xgboost) (1.10.1)\n",
      "Note: you may need to restart the kernel to use updated packages.\n"
     ]
    }
   ],
   "source": [
    "%pip install xgboost"
   ],
   "metadata": {
    "collapsed": false,
    "pycharm": {
     "name": "#%%\n"
    }
   }
  },
  {
   "cell_type": "code",
   "execution_count": 2,
   "metadata": {
    "pycharm": {
     "name": "#%%\n"
    }
   },
   "outputs": [
    {
     "name": "stderr",
     "output_type": "stream",
     "text": [
      "C:\\Users\\Mobilee\\AppData\\Local\\Programs\\Python\\Python38\\lib\\site-packages\\geopandas\\_compat.py:124: UserWarning: The Shapely GEOS version (3.11.2-CAPI-1.17.2) is incompatible with the GEOS version PyGEOS was compiled with (3.10.4-CAPI-1.16.2). Conversions between both will be slow.\n",
      "  warnings.warn(\n"
     ]
    }
   ],
   "source": [
    "import random\n",
    "import json\n",
    "import pandas as pd\n",
    "import numpy as np\n",
    "import matplotlib.pyplot as plt\n",
    "\n",
    "import torch\n",
    "from torch.utils.data import Dataset, DataLoader\n",
    "import torch.nn as nn\n",
    "import torch.nn.functional as F\n",
    "import torch.optim as optim\n",
    "import matplotlib.pyplot as plt\n",
    "\n",
    "from sklearn.metrics import r2_score\n",
    "from sklearn.preprocessing import OneHotEncoder\n",
    "from sklearn.model_selection import train_test_split\n",
    "from sklearn.metrics import mean_squared_error\n",
    "from sklearn.preprocessing import LabelEncoder\n",
    "\n",
    "import xgboost as xgb\n",
    "\n",
    "from keplergl import KeplerGl\n",
    "\n",
    "random.seed(2024)\n",
    "np.random.seed(2024)"
   ]
  },
  {
   "cell_type": "markdown",
   "metadata": {
    "pycharm": {
     "name": "#%% md\n"
    }
   },
   "source": [
    "# First Approach: Using KNN"
   ]
  },
  {
   "cell_type": "markdown",
   "metadata": {
    "pycharm": {
     "name": "#%% md\n"
    }
   },
   "source": [
    "## Data Preparation for KNN"
   ]
  },
  {
   "cell_type": "markdown",
   "metadata": {
    "pycharm": {
     "name": "#%% md\n"
    }
   },
   "source": [
    "In this part, you should prepare the data for KNN. You should load the dataset file that we provided, named `Data/output.json` and then clean it, do all the required preprocessings and then split into train-test-val sets if necessary. Note that we provided a splitted test set for you, named `Data/output_test.json`. You should not use this file for training or validation. You should only use it for testing your model."
   ]
  },
  {
   "cell_type": "markdown",
   "source": [
    "### Load the Dataset"
   ],
   "metadata": {
    "collapsed": false,
    "pycharm": {
     "name": "#%% md\n"
    }
   }
  },
  {
   "cell_type": "code",
   "execution_count": 3,
   "metadata": {
    "pycharm": {
     "name": "#%%\n"
    }
   },
   "outputs": [
    {
     "data": {
      "text/plain": "   user_id  Day  origin lat  origin lon  dest lat  dest lon  \\\n0        0    0      35.625      51.375    36.000    51.085   \n1        0    0      36.000      51.085    35.625    51.375   \n2        0    0      35.680      51.445    35.745    51.465   \n3        0    0      35.745      51.465    35.680    51.445   \n4        0    1      35.625      51.375    35.680    51.445   \n\n           start_time            end_time  price  \n0 2024-01-30 13:07:00 2024-01-30 14:43:00  43.99  \n1 2024-01-30 15:13:00 2024-01-30 16:49:00  36.66  \n2 2024-01-30 20:41:00 2024-01-30 20:54:00  15.08  \n3 2024-01-30 21:24:00 2024-01-30 21:37:00  10.00  \n4 2024-01-30 23:38:00 2024-01-30 23:58:00  19.48  ",
      "text/html": "<div>\n<style scoped>\n    .dataframe tbody tr th:only-of-type {\n        vertical-align: middle;\n    }\n\n    .dataframe tbody tr th {\n        vertical-align: top;\n    }\n\n    .dataframe thead th {\n        text-align: right;\n    }\n</style>\n<table border=\"1\" class=\"dataframe\">\n  <thead>\n    <tr style=\"text-align: right;\">\n      <th></th>\n      <th>user_id</th>\n      <th>Day</th>\n      <th>origin lat</th>\n      <th>origin lon</th>\n      <th>dest lat</th>\n      <th>dest lon</th>\n      <th>start_time</th>\n      <th>end_time</th>\n      <th>price</th>\n    </tr>\n  </thead>\n  <tbody>\n    <tr>\n      <th>0</th>\n      <td>0</td>\n      <td>0</td>\n      <td>35.625</td>\n      <td>51.375</td>\n      <td>36.000</td>\n      <td>51.085</td>\n      <td>2024-01-30 13:07:00</td>\n      <td>2024-01-30 14:43:00</td>\n      <td>43.99</td>\n    </tr>\n    <tr>\n      <th>1</th>\n      <td>0</td>\n      <td>0</td>\n      <td>36.000</td>\n      <td>51.085</td>\n      <td>35.625</td>\n      <td>51.375</td>\n      <td>2024-01-30 15:13:00</td>\n      <td>2024-01-30 16:49:00</td>\n      <td>36.66</td>\n    </tr>\n    <tr>\n      <th>2</th>\n      <td>0</td>\n      <td>0</td>\n      <td>35.680</td>\n      <td>51.445</td>\n      <td>35.745</td>\n      <td>51.465</td>\n      <td>2024-01-30 20:41:00</td>\n      <td>2024-01-30 20:54:00</td>\n      <td>15.08</td>\n    </tr>\n    <tr>\n      <th>3</th>\n      <td>0</td>\n      <td>0</td>\n      <td>35.745</td>\n      <td>51.465</td>\n      <td>35.680</td>\n      <td>51.445</td>\n      <td>2024-01-30 21:24:00</td>\n      <td>2024-01-30 21:37:00</td>\n      <td>10.00</td>\n    </tr>\n    <tr>\n      <th>4</th>\n      <td>0</td>\n      <td>1</td>\n      <td>35.625</td>\n      <td>51.375</td>\n      <td>35.680</td>\n      <td>51.445</td>\n      <td>2024-01-30 23:38:00</td>\n      <td>2024-01-30 23:58:00</td>\n      <td>19.48</td>\n    </tr>\n  </tbody>\n</table>\n</div>"
     },
     "execution_count": 3,
     "metadata": {},
     "output_type": "execute_result"
    }
   ],
   "source": [
    "df = pd.read_json('Data/output.json')\n",
    "df.head(5)"
   ]
  },
  {
   "cell_type": "code",
   "execution_count": 4,
   "outputs": [
    {
     "data": {
      "text/plain": "   user_id  Day  origin lat  origin lon  dest lat  dest lon  \\\n0       24    6      35.650      51.225    35.640    51.270   \n1       46    2      35.625      51.250    35.690    51.295   \n2       27    5      35.650      51.225    35.865    51.045   \n3        7    4      35.875      51.375    35.890    51.315   \n4       27    3      35.625      51.375    35.650    51.385   \n\n           start_time            end_time  price  \n0 2024-01-30 11:58:00 2024-01-30 12:12:00  10.00  \n1 2024-01-30 21:58:00 2024-01-30 22:18:00  11.84  \n2 2024-01-30 20:05:00 2024-01-30 20:58:00  23.36  \n3 2024-01-30 17:39:00 2024-01-30 18:17:00  13.74  \n4 2024-01-30 13:16:00 2024-01-30 13:19:00  15.08  ",
      "text/html": "<div>\n<style scoped>\n    .dataframe tbody tr th:only-of-type {\n        vertical-align: middle;\n    }\n\n    .dataframe tbody tr th {\n        vertical-align: top;\n    }\n\n    .dataframe thead th {\n        text-align: right;\n    }\n</style>\n<table border=\"1\" class=\"dataframe\">\n  <thead>\n    <tr style=\"text-align: right;\">\n      <th></th>\n      <th>user_id</th>\n      <th>Day</th>\n      <th>origin lat</th>\n      <th>origin lon</th>\n      <th>dest lat</th>\n      <th>dest lon</th>\n      <th>start_time</th>\n      <th>end_time</th>\n      <th>price</th>\n    </tr>\n  </thead>\n  <tbody>\n    <tr>\n      <th>0</th>\n      <td>24</td>\n      <td>6</td>\n      <td>35.650</td>\n      <td>51.225</td>\n      <td>35.640</td>\n      <td>51.270</td>\n      <td>2024-01-30 11:58:00</td>\n      <td>2024-01-30 12:12:00</td>\n      <td>10.00</td>\n    </tr>\n    <tr>\n      <th>1</th>\n      <td>46</td>\n      <td>2</td>\n      <td>35.625</td>\n      <td>51.250</td>\n      <td>35.690</td>\n      <td>51.295</td>\n      <td>2024-01-30 21:58:00</td>\n      <td>2024-01-30 22:18:00</td>\n      <td>11.84</td>\n    </tr>\n    <tr>\n      <th>2</th>\n      <td>27</td>\n      <td>5</td>\n      <td>35.650</td>\n      <td>51.225</td>\n      <td>35.865</td>\n      <td>51.045</td>\n      <td>2024-01-30 20:05:00</td>\n      <td>2024-01-30 20:58:00</td>\n      <td>23.36</td>\n    </tr>\n    <tr>\n      <th>3</th>\n      <td>7</td>\n      <td>4</td>\n      <td>35.875</td>\n      <td>51.375</td>\n      <td>35.890</td>\n      <td>51.315</td>\n      <td>2024-01-30 17:39:00</td>\n      <td>2024-01-30 18:17:00</td>\n      <td>13.74</td>\n    </tr>\n    <tr>\n      <th>4</th>\n      <td>27</td>\n      <td>3</td>\n      <td>35.625</td>\n      <td>51.375</td>\n      <td>35.650</td>\n      <td>51.385</td>\n      <td>2024-01-30 13:16:00</td>\n      <td>2024-01-30 13:19:00</td>\n      <td>15.08</td>\n    </tr>\n  </tbody>\n</table>\n</div>"
     },
     "execution_count": 4,
     "metadata": {},
     "output_type": "execute_result"
    }
   ],
   "source": [
    "df_test = pd.read_json('Data/output_test.json')\n",
    "df_test.head(5)"
   ],
   "metadata": {
    "collapsed": false,
    "pycharm": {
     "name": "#%%\n"
    }
   }
  },
  {
   "cell_type": "markdown",
   "source": [
    "### Preprocessing"
   ],
   "metadata": {
    "collapsed": false,
    "pycharm": {
     "name": "#%% md\n"
    }
   }
  },
  {
   "cell_type": "markdown",
   "source": [
    "#### missing values"
   ],
   "metadata": {
    "collapsed": false,
    "pycharm": {
     "name": "#%% md\n"
    }
   }
  },
  {
   "cell_type": "code",
   "execution_count": 5,
   "outputs": [
    {
     "data": {
      "text/plain": "user_id       0\nDay           0\norigin lat    0\norigin lon    0\ndest lat      0\ndest lon      0\nstart_time    0\nend_time      0\nprice         0\ndtype: int64"
     },
     "execution_count": 5,
     "metadata": {},
     "output_type": "execute_result"
    }
   ],
   "source": [
    "\"\"\" Handling missing Values \"\"\"\n",
    "df.isnull().sum()"
   ],
   "metadata": {
    "collapsed": false,
    "pycharm": {
     "name": "#%%\n"
    }
   }
  },
  {
   "cell_type": "markdown",
   "source": [
    "#### feature engineering"
   ],
   "metadata": {
    "collapsed": false,
    "pycharm": {
     "name": "#%% md\n"
    }
   }
  },
  {
   "cell_type": "code",
   "execution_count": 6,
   "outputs": [],
   "source": [
    "def feature_engineering(df):\n",
    "    # time features\n",
    "    df['hour_of_start'] = df['start_time'].dt.hour\n",
    "    df['day_of_start'] = df['start_time'].dt.day\n",
    "    df['trip_duration'] = (df['end_time'] - df['start_time']).dt.total_seconds() / 60\n",
    "\n",
    "    # origin loc features\n",
    "    # df[['origin_label', 'origin_coordinate']] = pd.DataFrame(df['origin'].tolist(), index=df.index)\n",
    "    # df[['origin_lat', 'origin_lon']] = pd.DataFrame(df['origin_coordinate'].tolist(), index=df.index)\n",
    "\n",
    "    # destination loc features\n",
    "    # df[['destination_label', 'destination_coordinate']] = pd.DataFrame(df['destination'].tolist(), index=df.index)\n",
    "    # df[['destination_lat', 'destination_lon']] = pd.DataFrame(df['destination_coordinate'].tolist(), index=df.index)\n",
    "\n",
    "    return df"
   ],
   "metadata": {
    "collapsed": false,
    "pycharm": {
     "name": "#%%\n"
    }
   }
  },
  {
   "cell_type": "code",
   "execution_count": 7,
   "outputs": [
    {
     "data": {
      "text/plain": "       user_id  Day  origin lat  origin lon  dest lat  dest lon  \\\n0            0    0      35.625      51.375    36.000    51.085   \n1            0    0      36.000      51.085    35.625    51.375   \n2            0    0      35.680      51.445    35.745    51.465   \n3            0    0      35.745      51.465    35.680    51.445   \n4            0    1      35.625      51.375    35.680    51.445   \n...        ...  ...         ...         ...       ...       ...   \n17989       59    0      35.950      51.225    35.875    51.125   \n17990       59    0      35.875      51.125    35.690    51.295   \n17991       59    0      35.875      51.125    35.525    51.100   \n17992       59    0      35.525      51.100    35.815    51.320   \n17993       59    0      35.815      51.320    35.950    51.225   \n\n               start_time            end_time  price  hour_of_start  \\\n0     2024-01-30 13:07:00 2024-01-30 14:43:00  43.99             13   \n1     2024-01-30 15:13:00 2024-01-30 16:49:00  36.66             15   \n2     2024-01-30 20:41:00 2024-01-30 20:54:00  15.08             20   \n3     2024-01-30 21:24:00 2024-01-30 21:37:00  10.00             21   \n4     2024-01-30 23:38:00 2024-01-30 23:58:00  19.48             23   \n...                   ...                 ...    ...            ...   \n17989 2024-01-30 06:41:00 2024-01-30 07:07:00  10.92              6   \n17990 2024-01-30 12:46:00 2024-01-30 13:35:00  17.35             12   \n17991 2024-01-30 17:39:00 2024-01-30 18:48:00  34.56             17   \n17992 2024-01-30 20:09:00 2024-01-30 21:19:00  36.80             20   \n17993 2024-01-30 21:49:00 2024-01-30 22:21:00  11.22             21   \n\n       day_of_start  trip_duration  \n0                30           96.0  \n1                30           96.0  \n2                30           13.0  \n3                30           13.0  \n4                30           20.0  \n...             ...            ...  \n17989            30           26.0  \n17990            30           49.0  \n17991            30           69.0  \n17992            30           70.0  \n17993            30           32.0  \n\n[17994 rows x 12 columns]",
      "text/html": "<div>\n<style scoped>\n    .dataframe tbody tr th:only-of-type {\n        vertical-align: middle;\n    }\n\n    .dataframe tbody tr th {\n        vertical-align: top;\n    }\n\n    .dataframe thead th {\n        text-align: right;\n    }\n</style>\n<table border=\"1\" class=\"dataframe\">\n  <thead>\n    <tr style=\"text-align: right;\">\n      <th></th>\n      <th>user_id</th>\n      <th>Day</th>\n      <th>origin lat</th>\n      <th>origin lon</th>\n      <th>dest lat</th>\n      <th>dest lon</th>\n      <th>start_time</th>\n      <th>end_time</th>\n      <th>price</th>\n      <th>hour_of_start</th>\n      <th>day_of_start</th>\n      <th>trip_duration</th>\n    </tr>\n  </thead>\n  <tbody>\n    <tr>\n      <th>0</th>\n      <td>0</td>\n      <td>0</td>\n      <td>35.625</td>\n      <td>51.375</td>\n      <td>36.000</td>\n      <td>51.085</td>\n      <td>2024-01-30 13:07:00</td>\n      <td>2024-01-30 14:43:00</td>\n      <td>43.99</td>\n      <td>13</td>\n      <td>30</td>\n      <td>96.0</td>\n    </tr>\n    <tr>\n      <th>1</th>\n      <td>0</td>\n      <td>0</td>\n      <td>36.000</td>\n      <td>51.085</td>\n      <td>35.625</td>\n      <td>51.375</td>\n      <td>2024-01-30 15:13:00</td>\n      <td>2024-01-30 16:49:00</td>\n      <td>36.66</td>\n      <td>15</td>\n      <td>30</td>\n      <td>96.0</td>\n    </tr>\n    <tr>\n      <th>2</th>\n      <td>0</td>\n      <td>0</td>\n      <td>35.680</td>\n      <td>51.445</td>\n      <td>35.745</td>\n      <td>51.465</td>\n      <td>2024-01-30 20:41:00</td>\n      <td>2024-01-30 20:54:00</td>\n      <td>15.08</td>\n      <td>20</td>\n      <td>30</td>\n      <td>13.0</td>\n    </tr>\n    <tr>\n      <th>3</th>\n      <td>0</td>\n      <td>0</td>\n      <td>35.745</td>\n      <td>51.465</td>\n      <td>35.680</td>\n      <td>51.445</td>\n      <td>2024-01-30 21:24:00</td>\n      <td>2024-01-30 21:37:00</td>\n      <td>10.00</td>\n      <td>21</td>\n      <td>30</td>\n      <td>13.0</td>\n    </tr>\n    <tr>\n      <th>4</th>\n      <td>0</td>\n      <td>1</td>\n      <td>35.625</td>\n      <td>51.375</td>\n      <td>35.680</td>\n      <td>51.445</td>\n      <td>2024-01-30 23:38:00</td>\n      <td>2024-01-30 23:58:00</td>\n      <td>19.48</td>\n      <td>23</td>\n      <td>30</td>\n      <td>20.0</td>\n    </tr>\n    <tr>\n      <th>...</th>\n      <td>...</td>\n      <td>...</td>\n      <td>...</td>\n      <td>...</td>\n      <td>...</td>\n      <td>...</td>\n      <td>...</td>\n      <td>...</td>\n      <td>...</td>\n      <td>...</td>\n      <td>...</td>\n      <td>...</td>\n    </tr>\n    <tr>\n      <th>17989</th>\n      <td>59</td>\n      <td>0</td>\n      <td>35.950</td>\n      <td>51.225</td>\n      <td>35.875</td>\n      <td>51.125</td>\n      <td>2024-01-30 06:41:00</td>\n      <td>2024-01-30 07:07:00</td>\n      <td>10.92</td>\n      <td>6</td>\n      <td>30</td>\n      <td>26.0</td>\n    </tr>\n    <tr>\n      <th>17990</th>\n      <td>59</td>\n      <td>0</td>\n      <td>35.875</td>\n      <td>51.125</td>\n      <td>35.690</td>\n      <td>51.295</td>\n      <td>2024-01-30 12:46:00</td>\n      <td>2024-01-30 13:35:00</td>\n      <td>17.35</td>\n      <td>12</td>\n      <td>30</td>\n      <td>49.0</td>\n    </tr>\n    <tr>\n      <th>17991</th>\n      <td>59</td>\n      <td>0</td>\n      <td>35.875</td>\n      <td>51.125</td>\n      <td>35.525</td>\n      <td>51.100</td>\n      <td>2024-01-30 17:39:00</td>\n      <td>2024-01-30 18:48:00</td>\n      <td>34.56</td>\n      <td>17</td>\n      <td>30</td>\n      <td>69.0</td>\n    </tr>\n    <tr>\n      <th>17992</th>\n      <td>59</td>\n      <td>0</td>\n      <td>35.525</td>\n      <td>51.100</td>\n      <td>35.815</td>\n      <td>51.320</td>\n      <td>2024-01-30 20:09:00</td>\n      <td>2024-01-30 21:19:00</td>\n      <td>36.80</td>\n      <td>20</td>\n      <td>30</td>\n      <td>70.0</td>\n    </tr>\n    <tr>\n      <th>17993</th>\n      <td>59</td>\n      <td>0</td>\n      <td>35.815</td>\n      <td>51.320</td>\n      <td>35.950</td>\n      <td>51.225</td>\n      <td>2024-01-30 21:49:00</td>\n      <td>2024-01-30 22:21:00</td>\n      <td>11.22</td>\n      <td>21</td>\n      <td>30</td>\n      <td>32.0</td>\n    </tr>\n  </tbody>\n</table>\n<p>17994 rows × 12 columns</p>\n</div>"
     },
     "execution_count": 7,
     "metadata": {},
     "output_type": "execute_result"
    }
   ],
   "source": [
    "df = feature_engineering(df)\n",
    "df_test = feature_engineering(df_test)\n",
    "df"
   ],
   "metadata": {
    "collapsed": false,
    "pycharm": {
     "name": "#%%\n"
    }
   }
  },
  {
   "cell_type": "code",
   "execution_count": 8,
   "metadata": {
    "pycharm": {
     "name": "#%%\n"
    }
   },
   "outputs": [
    {
     "name": "stdout",
     "output_type": "stream",
     "text": [
      "number of unique users: 60\n",
      "randomly selected user: 30\n"
     ]
    }
   ],
   "source": [
    "# print out the number of unique users and also randomly select one user\n",
    "print(\"number of unique users:\", df['user_id'].nunique())\n",
    "selected_user = random.choice(df['user_id'].unique())\n",
    "print(\"randomly selected user:\", selected_user)"
   ]
  },
  {
   "cell_type": "code",
   "execution_count": 9,
   "metadata": {
    "pycharm": {
     "name": "#%%\n"
    }
   },
   "outputs": [
    {
     "name": "stdout",
     "output_type": "stream",
     "text": [
      "User Guide: https://docs.kepler.gl/docs/keplergl-jupyter\n"
     ]
    },
    {
     "data": {
      "text/plain": "KeplerGl(data={'destinations': {'index': [8883, 8884, 8885, 8886, 8887, 8888, 8889, 8890, 8891, 8892, 8893, 88…",
      "application/vnd.jupyter.widget-view+json": {
       "version_major": 2,
       "version_minor": 0,
       "model_id": "67c6122718d54b30aeb3cf8c433e1d1c"
      }
     },
     "metadata": {},
     "output_type": "display_data"
    }
   ],
   "source": [
    "# Extract data for the selected user\n",
    "user_data = df[df['user_id'] == selected_user]\n",
    "\n",
    "# Extract destinations from user_data as lat-long pairs\n",
    "destinations = user_data[['dest lat', 'dest lon']]\n",
    "destinations.columns = ['latitude', 'longitude']\n",
    "\n",
    "# Visualize the destinations\n",
    "map_1 = KeplerGl(height=500)\n",
    "map_1.add_data(data=destinations, name='destinations')\n",
    "map_1"
   ]
  },
  {
   "cell_type": "markdown",
   "metadata": {
    "pycharm": {
     "name": "#%% md\n"
    }
   },
   "source": [
    "Here, you should do feature engineering stuff! Extract the features that you think are important. Split the features into training set and also extract the related outputs (used for our model further). These outputs may be strings (name of destination) or destination's latitude/longitude or etc. Use your creativity!"
   ]
  },
  {
   "cell_type": "code",
   "execution_count": 10,
   "outputs": [],
   "source": [
    "def categorical_to_numerical(df):\n",
    "    # One-hot encode 'origin_label'\n",
    "    onehot_encoder = OneHotEncoder()\n",
    "    onehot_encoded = onehot_encoder.fit_transform(df[['origin_label']]).toarray()\n",
    "\n",
    "    # Drop the original 'origin_label' column and add the new one-hot encoded columns\n",
    "    df = df.drop('origin_label', axis=1)\n",
    "    df[onehot_encoder.get_feature_names_out(['origin_label'])] = onehot_encoded\n",
    "\n",
    "    return df"
   ],
   "metadata": {
    "collapsed": false,
    "pycharm": {
     "name": "#%%\n"
    }
   }
  },
  {
   "cell_type": "code",
   "execution_count": 11,
   "metadata": {
    "pycharm": {
     "name": "#%%\n"
    }
   },
   "outputs": [],
   "source": [
    "X = df[['user_id', 'Day', 'hour_of_start', 'day_of_start', 'trip_duration', 'origin lat', 'origin lon', 'price']]\n",
    "# X = categorical_to_numerical(X)\n",
    "y = df[['dest lat', 'dest lon']]\n",
    "X_train, X_val, y_train, y_val = train_test_split(X, y, test_size=0.2)\n",
    "X_test = df_test[['user_id', 'Day', 'hour_of_start', 'day_of_start', 'trip_duration', 'origin lat', 'origin lon', 'price']]\n",
    "# X_test = categorical_to_numerical(X_test)\n",
    "y_test = df_test[['dest lat', 'dest lon']]"
   ]
  },
  {
   "cell_type": "code",
   "execution_count": 12,
   "outputs": [
    {
     "data": {
      "text/plain": "       user_id  Day  hour_of_start  day_of_start  trip_duration  origin lat  \\\n9523        32    4              6            30           28.0      35.725   \n10784       36    4              7            30           22.0      35.735   \n221          0    5             16            30           42.0      35.520   \n11535       38    3              7            30           13.0      35.710   \n10793       36    1             12            30           25.0      35.625   \n...        ...  ...            ...           ...            ...         ...   \n16567       55    2             12            30           40.0      35.625   \n2494         9    4              7            30            5.0      35.615   \n14875       50    6             12            30           49.0      35.975   \n2688         9    3             12            30           18.0      35.625   \n7816        26    0             16            30           34.0      35.875   \n\n       origin lon  price  \n9523       51.300  21.27  \n10784      51.200  16.41  \n221        51.285  27.34  \n11535      51.090  17.50  \n10793      51.125  18.60  \n...           ...    ...  \n16567      51.250  22.13  \n2494       51.175  13.85  \n14875      51.250  24.80  \n2688       51.125  10.74  \n7816       51.125  21.08  \n\n[14395 rows x 8 columns]",
      "text/html": "<div>\n<style scoped>\n    .dataframe tbody tr th:only-of-type {\n        vertical-align: middle;\n    }\n\n    .dataframe tbody tr th {\n        vertical-align: top;\n    }\n\n    .dataframe thead th {\n        text-align: right;\n    }\n</style>\n<table border=\"1\" class=\"dataframe\">\n  <thead>\n    <tr style=\"text-align: right;\">\n      <th></th>\n      <th>user_id</th>\n      <th>Day</th>\n      <th>hour_of_start</th>\n      <th>day_of_start</th>\n      <th>trip_duration</th>\n      <th>origin lat</th>\n      <th>origin lon</th>\n      <th>price</th>\n    </tr>\n  </thead>\n  <tbody>\n    <tr>\n      <th>9523</th>\n      <td>32</td>\n      <td>4</td>\n      <td>6</td>\n      <td>30</td>\n      <td>28.0</td>\n      <td>35.725</td>\n      <td>51.300</td>\n      <td>21.27</td>\n    </tr>\n    <tr>\n      <th>10784</th>\n      <td>36</td>\n      <td>4</td>\n      <td>7</td>\n      <td>30</td>\n      <td>22.0</td>\n      <td>35.735</td>\n      <td>51.200</td>\n      <td>16.41</td>\n    </tr>\n    <tr>\n      <th>221</th>\n      <td>0</td>\n      <td>5</td>\n      <td>16</td>\n      <td>30</td>\n      <td>42.0</td>\n      <td>35.520</td>\n      <td>51.285</td>\n      <td>27.34</td>\n    </tr>\n    <tr>\n      <th>11535</th>\n      <td>38</td>\n      <td>3</td>\n      <td>7</td>\n      <td>30</td>\n      <td>13.0</td>\n      <td>35.710</td>\n      <td>51.090</td>\n      <td>17.50</td>\n    </tr>\n    <tr>\n      <th>10793</th>\n      <td>36</td>\n      <td>1</td>\n      <td>12</td>\n      <td>30</td>\n      <td>25.0</td>\n      <td>35.625</td>\n      <td>51.125</td>\n      <td>18.60</td>\n    </tr>\n    <tr>\n      <th>...</th>\n      <td>...</td>\n      <td>...</td>\n      <td>...</td>\n      <td>...</td>\n      <td>...</td>\n      <td>...</td>\n      <td>...</td>\n      <td>...</td>\n    </tr>\n    <tr>\n      <th>16567</th>\n      <td>55</td>\n      <td>2</td>\n      <td>12</td>\n      <td>30</td>\n      <td>40.0</td>\n      <td>35.625</td>\n      <td>51.250</td>\n      <td>22.13</td>\n    </tr>\n    <tr>\n      <th>2494</th>\n      <td>9</td>\n      <td>4</td>\n      <td>7</td>\n      <td>30</td>\n      <td>5.0</td>\n      <td>35.615</td>\n      <td>51.175</td>\n      <td>13.85</td>\n    </tr>\n    <tr>\n      <th>14875</th>\n      <td>50</td>\n      <td>6</td>\n      <td>12</td>\n      <td>30</td>\n      <td>49.0</td>\n      <td>35.975</td>\n      <td>51.250</td>\n      <td>24.80</td>\n    </tr>\n    <tr>\n      <th>2688</th>\n      <td>9</td>\n      <td>3</td>\n      <td>12</td>\n      <td>30</td>\n      <td>18.0</td>\n      <td>35.625</td>\n      <td>51.125</td>\n      <td>10.74</td>\n    </tr>\n    <tr>\n      <th>7816</th>\n      <td>26</td>\n      <td>0</td>\n      <td>16</td>\n      <td>30</td>\n      <td>34.0</td>\n      <td>35.875</td>\n      <td>51.125</td>\n      <td>21.08</td>\n    </tr>\n  </tbody>\n</table>\n<p>14395 rows × 8 columns</p>\n</div>"
     },
     "execution_count": 12,
     "metadata": {},
     "output_type": "execute_result"
    }
   ],
   "source": [
    "X_train"
   ],
   "metadata": {
    "collapsed": false,
    "pycharm": {
     "name": "#%%\n"
    }
   }
  },
  {
   "cell_type": "code",
   "execution_count": 13,
   "metadata": {
    "pycharm": {
     "name": "#%%\n"
    }
   },
   "outputs": [
    {
     "name": "stdout",
     "output_type": "stream",
     "text": [
      "X_train shape: (14395, 8)\n",
      "y_train shape: (14395, 2)\n",
      "X_val shape: (3599, 8)\n",
      "y_val shape: (3599, 2)\n",
      "X_test shape: (4499, 8)\n",
      "y_test shape: (4499, 2)\n"
     ]
    }
   ],
   "source": [
    "print('X_train shape:', X_train.shape)\n",
    "print('y_train shape:', y_train.shape)\n",
    "print('X_val shape:', X_val.shape)\n",
    "print('y_val shape:', y_val.shape)\n",
    "print('X_test shape:', X_test.shape)\n",
    "print('y_test shape:', y_test.shape)"
   ]
  },
  {
   "cell_type": "markdown",
   "metadata": {
    "pycharm": {
     "name": "#%% md\n"
    }
   },
   "source": [
    "## KNN Model"
   ]
  },
  {
   "cell_type": "markdown",
   "metadata": {
    "pycharm": {
     "name": "#%% md\n"
    }
   },
   "source": [
    "In this section, we are going to implement our KNN model. For further information on how KNN works, please refer to [this](https://en.wikipedia.org/wiki/K-nearest_neighbors_algorithm) link. As you can see, it's a simple algorithm. We will start with this and see the results of our _destination suggestion_ system."
   ]
  },
  {
   "cell_type": "code",
   "execution_count": 14,
   "metadata": {
    "pycharm": {
     "name": "#%%\n"
    }
   },
   "outputs": [],
   "source": [
    "class NearestNeighbor():\n",
    "    def __init__(self, k=3):\n",
    "        self.k = k\n",
    "        self.train_X = None\n",
    "        self.train_y = None\n",
    "\n",
    "    def fit(self, train_X, train_y):\n",
    "        self.train_X = train_X\n",
    "        self.train_y = train_y\n",
    "\n",
    "    def predict(self, x):\n",
    "        predictions = []\n",
    "        for i in range(x.shape[0]):\n",
    "            distances = self.calculate_distances(x.iloc[i, :])\n",
    "            k_nearest_indices = np.argsort(distances)[:self.k]\n",
    "            k_nearest_labels = self.train_y.iloc[k_nearest_indices]\n",
    "            average_label = np.mean(k_nearest_labels, axis=0)\n",
    "            predictions.append(average_label)\n",
    "        return pd.DataFrame(predictions, columns=self.train_y.columns)\n",
    "\n",
    "    def calculate_distances(self, x):\n",
    "        distances = np.sqrt(np.sum((self.train_X - x) ** 2, axis=1))\n",
    "        return distances"
   ]
  },
  {
   "cell_type": "code",
   "execution_count": 15,
   "outputs": [],
   "source": [
    "def calculate_accuracy(y_true, y_pred, tolerance=0):\n",
    "    correct_predictions = 0\n",
    "    total_predictions = y_true.shape[0]\n",
    "\n",
    "    for true, pred in zip(y_true.values, y_pred.values):\n",
    "        lat_correct = abs(true[0] - pred[0]) <= tolerance\n",
    "        lon_correct = abs(true[1] - pred[1]) <= tolerance\n",
    "        if lat_correct and lon_correct:\n",
    "            correct_predictions += 1\n",
    "\n",
    "    accuracy = correct_predictions / total_predictions\n",
    "    return accuracy"
   ],
   "metadata": {
    "collapsed": false,
    "pycharm": {
     "name": "#%%\n"
    }
   }
  },
  {
   "cell_type": "code",
   "execution_count": 16,
   "metadata": {
    "pycharm": {
     "name": "#%%\n"
    }
   },
   "outputs": [],
   "source": [
    "# Fit the model on training data\n",
    "knn_model = NearestNeighbor(k=1)\n",
    "knn_model.fit(X_train, y_train)"
   ]
  },
  {
   "cell_type": "code",
   "execution_count": 17,
   "outputs": [
    {
     "name": "stdout",
     "output_type": "stream",
     "text": [
      "Training Accuracy: 99.98610628690517\n"
     ]
    }
   ],
   "source": [
    "train_predictions_KNN = knn_model.predict(X_train)\n",
    "train_accuracy_KNN = calculate_accuracy(y_train, train_predictions_KNN)\n",
    "print(f\"Training Accuracy: {train_accuracy_KNN*100}\")"
   ],
   "metadata": {
    "collapsed": false,
    "pycharm": {
     "name": "#%%\n"
    }
   }
  },
  {
   "cell_type": "code",
   "execution_count": 18,
   "outputs": [
    {
     "name": "stdout",
     "output_type": "stream",
     "text": [
      "Validation Accuracy: 37.14920811336482\n"
     ]
    }
   ],
   "source": [
    "val_predictions_KNN = knn_model.predict(X_val)\n",
    "val_accuracy_KNN = calculate_accuracy(y_val, val_predictions_KNN)\n",
    "print(f\"Validation Accuracy: {val_accuracy_KNN*100}\")"
   ],
   "metadata": {
    "collapsed": false,
    "pycharm": {
     "name": "#%%\n"
    }
   }
  },
  {
   "cell_type": "code",
   "execution_count": 19,
   "outputs": [
    {
     "name": "stdout",
     "output_type": "stream",
     "text": [
      "Test Accuracy: 38.986441431429206\n"
     ]
    }
   ],
   "source": [
    "test_predictions_KNN = knn_model.predict(X_test)\n",
    "test_accuracy_KNN = calculate_accuracy(y_test, test_predictions_KNN)\n",
    "print(f\"Test Accuracy: {test_accuracy_KNN*100}\")"
   ],
   "metadata": {
    "collapsed": false,
    "pycharm": {
     "name": "#%%\n"
    }
   }
  },
  {
   "cell_type": "markdown",
   "metadata": {
    "pycharm": {
     "name": "#%% md\n"
    }
   },
   "source": [
    "**QUESTION**: What do you think about this approach? Is it a good idea to use KNN for this problem? Why (or why not)? If the patterns in our datatset (passengers' history) get more complicated, will our model be robust to it in comparison to other models?\n",
    "\n",
    "Your Answer:\n",
    "\n",
    "***\n",
    "\n",
    "***While KNN can be a good starting point due to its simplicity, the current results suggest it might not be the best choice for this particular problem, especially as the complexity of the data increases. Exploring more complex models and refining the feature engineering process could lead to better generalization and improved performance on unseen data.***\n",
    "\n",
    "\n",
    "***"
   ]
  },
  {
   "cell_type": "markdown",
   "metadata": {
    "pycharm": {
     "name": "#%% md\n"
    }
   },
   "source": [
    "# Second Approach: Using XGBoost"
   ]
  },
  {
   "cell_type": "markdown",
   "metadata": {
    "pycharm": {
     "name": "#%% md\n"
    }
   },
   "source": [
    "In this part, we are going to use XGBoost to predict the next destination of the passenger. You can use `xgboost` library to implement this model. To learn more about XGBoost, please refer to [this](https://en.wikipedia.org/wiki/XGBoost) link. It should be familiar to you, as you saw decision trees in the class.\n",
    "\n",
    "For this part, you can use the same data (that you did all the processes on) from the previous part. Or, if you need, you can reload the dataset and do new preprocessings on it."
   ]
  },
  {
   "cell_type": "markdown",
   "metadata": {
    "pycharm": {
     "name": "#%% md\n"
    }
   },
   "source": [
    "You can see the overview of how XGBoost works in the image below:\n",
    "\n",
    "<dev style=\"text-align: center\">\n",
    "<img src=\"./Images/XGBoost.png\" />\n",
    "</dev>"
   ]
  },
  {
   "cell_type": "markdown",
   "metadata": {
    "pycharm": {
     "name": "#%% md\n"
    }
   },
   "source": [
    "Although, this is for more information and you **do not** need to implement `XGBoost` from scratch. You can use the library that we mentioned above."
   ]
  },
  {
   "cell_type": "code",
   "execution_count": 20,
   "outputs": [],
   "source": [
    "class Encoder:\n",
    "    def __init__(self):\n",
    "      self.trans_dic={}\n",
    "      self.invtrans_dic={}\n",
    "      self.j=0\n",
    "\n",
    "    def fit(self, y):\n",
    "      y2 = y.to_numpy()\n",
    "      for i in range(len(y2)):\n",
    "        if (y2[i][0] , y2[i][1]) not in self.trans_dic:\n",
    "          self.trans_dic[(y2[i][0] , y2[i][1])]= self.j\n",
    "          self.invtrans_dic[self.j]= y2[i]\n",
    "          self.j+=1\n",
    "      return self.transform(y2)\n",
    "\n",
    "    def transform(self, y):\n",
    "      ny= []\n",
    "      for i in range(len(y)):\n",
    "        ny.append(self.trans_dic[(y[i][0] , y[i][1])])\n",
    "      return ny\n",
    "\n",
    "    def inverse_transform(self, enc):\n",
    "      ny= []\n",
    "      for i in range(len(enc)):\n",
    "        ny.append(self.invtrans_dic[enc[i]])\n",
    "\n",
    "      return np.array(ny)"
   ],
   "metadata": {
    "collapsed": false,
    "pycharm": {
     "name": "#%%\n"
    }
   }
  },
  {
   "cell_type": "code",
   "execution_count": 21,
   "outputs": [],
   "source": [
    "def predict_XG(encoder, classifier, X):\n",
    "      X = X.to_numpy()\n",
    "      X = np.array(X, dtype=np.float64)\n",
    "      prediction = classifier.predict(X)\n",
    "      return encoder.inverse_transform(prediction)"
   ],
   "metadata": {
    "collapsed": false,
    "pycharm": {
     "name": "#%%\n"
    }
   }
  },
  {
   "cell_type": "code",
   "execution_count": 22,
   "outputs": [
    {
     "data": {
      "text/plain": "XGBClassifier(base_score=None, booster=None, callbacks=None,\n              colsample_bylevel=None, colsample_bynode=None,\n              colsample_bytree=None, device=None, early_stopping_rounds=None,\n              enable_categorical=False, eval_metric=None, feature_types=None,\n              gamma=None, grow_policy=None, importance_type=None,\n              interaction_constraints=None, learning_rate=None, max_bin=None,\n              max_cat_threshold=None, max_cat_to_onehot=None,\n              max_delta_step=None, max_depth=None, max_leaves=None,\n              min_child_weight=None, missing=nan, monotone_constraints=None,\n              multi_strategy=None, n_estimators=None, n_jobs=None,\n              num_parallel_tree=None, objective='multi:softmax', ...)",
      "text/html": "<style>#sk-container-id-1 {color: black;}#sk-container-id-1 pre{padding: 0;}#sk-container-id-1 div.sk-toggleable {background-color: white;}#sk-container-id-1 label.sk-toggleable__label {cursor: pointer;display: block;width: 100%;margin-bottom: 0;padding: 0.3em;box-sizing: border-box;text-align: center;}#sk-container-id-1 label.sk-toggleable__label-arrow:before {content: \"▸\";float: left;margin-right: 0.25em;color: #696969;}#sk-container-id-1 label.sk-toggleable__label-arrow:hover:before {color: black;}#sk-container-id-1 div.sk-estimator:hover label.sk-toggleable__label-arrow:before {color: black;}#sk-container-id-1 div.sk-toggleable__content {max-height: 0;max-width: 0;overflow: hidden;text-align: left;background-color: #f0f8ff;}#sk-container-id-1 div.sk-toggleable__content pre {margin: 0.2em;color: black;border-radius: 0.25em;background-color: #f0f8ff;}#sk-container-id-1 input.sk-toggleable__control:checked~div.sk-toggleable__content {max-height: 200px;max-width: 100%;overflow: auto;}#sk-container-id-1 input.sk-toggleable__control:checked~label.sk-toggleable__label-arrow:before {content: \"▾\";}#sk-container-id-1 div.sk-estimator input.sk-toggleable__control:checked~label.sk-toggleable__label {background-color: #d4ebff;}#sk-container-id-1 div.sk-label input.sk-toggleable__control:checked~label.sk-toggleable__label {background-color: #d4ebff;}#sk-container-id-1 input.sk-hidden--visually {border: 0;clip: rect(1px 1px 1px 1px);clip: rect(1px, 1px, 1px, 1px);height: 1px;margin: -1px;overflow: hidden;padding: 0;position: absolute;width: 1px;}#sk-container-id-1 div.sk-estimator {font-family: monospace;background-color: #f0f8ff;border: 1px dotted black;border-radius: 0.25em;box-sizing: border-box;margin-bottom: 0.5em;}#sk-container-id-1 div.sk-estimator:hover {background-color: #d4ebff;}#sk-container-id-1 div.sk-parallel-item::after {content: \"\";width: 100%;border-bottom: 1px solid gray;flex-grow: 1;}#sk-container-id-1 div.sk-label:hover label.sk-toggleable__label {background-color: #d4ebff;}#sk-container-id-1 div.sk-serial::before {content: \"\";position: absolute;border-left: 1px solid gray;box-sizing: border-box;top: 0;bottom: 0;left: 50%;z-index: 0;}#sk-container-id-1 div.sk-serial {display: flex;flex-direction: column;align-items: center;background-color: white;padding-right: 0.2em;padding-left: 0.2em;position: relative;}#sk-container-id-1 div.sk-item {position: relative;z-index: 1;}#sk-container-id-1 div.sk-parallel {display: flex;align-items: stretch;justify-content: center;background-color: white;position: relative;}#sk-container-id-1 div.sk-item::before, #sk-container-id-1 div.sk-parallel-item::before {content: \"\";position: absolute;border-left: 1px solid gray;box-sizing: border-box;top: 0;bottom: 0;left: 50%;z-index: -1;}#sk-container-id-1 div.sk-parallel-item {display: flex;flex-direction: column;z-index: 1;position: relative;background-color: white;}#sk-container-id-1 div.sk-parallel-item:first-child::after {align-self: flex-end;width: 50%;}#sk-container-id-1 div.sk-parallel-item:last-child::after {align-self: flex-start;width: 50%;}#sk-container-id-1 div.sk-parallel-item:only-child::after {width: 0;}#sk-container-id-1 div.sk-dashed-wrapped {border: 1px dashed gray;margin: 0 0.4em 0.5em 0.4em;box-sizing: border-box;padding-bottom: 0.4em;background-color: white;}#sk-container-id-1 div.sk-label label {font-family: monospace;font-weight: bold;display: inline-block;line-height: 1.2em;}#sk-container-id-1 div.sk-label-container {text-align: center;}#sk-container-id-1 div.sk-container {/* jupyter's `normalize.less` sets `[hidden] { display: none; }` but bootstrap.min.css set `[hidden] { display: none !important; }` so we also need the `!important` here to be able to override the default hidden behavior on the sphinx rendered scikit-learn.org. See: https://github.com/scikit-learn/scikit-learn/issues/21755 */display: inline-block !important;position: relative;}#sk-container-id-1 div.sk-text-repr-fallback {display: none;}</style><div id=\"sk-container-id-1\" class=\"sk-top-container\"><div class=\"sk-text-repr-fallback\"><pre>XGBClassifier(base_score=None, booster=None, callbacks=None,\n              colsample_bylevel=None, colsample_bynode=None,\n              colsample_bytree=None, device=None, early_stopping_rounds=None,\n              enable_categorical=False, eval_metric=None, feature_types=None,\n              gamma=None, grow_policy=None, importance_type=None,\n              interaction_constraints=None, learning_rate=None, max_bin=None,\n              max_cat_threshold=None, max_cat_to_onehot=None,\n              max_delta_step=None, max_depth=None, max_leaves=None,\n              min_child_weight=None, missing=nan, monotone_constraints=None,\n              multi_strategy=None, n_estimators=None, n_jobs=None,\n              num_parallel_tree=None, objective=&#x27;multi:softmax&#x27;, ...)</pre><b>In a Jupyter environment, please rerun this cell to show the HTML representation or trust the notebook. <br />On GitHub, the HTML representation is unable to render, please try loading this page with nbviewer.org.</b></div><div class=\"sk-container\" hidden><div class=\"sk-item\"><div class=\"sk-estimator sk-toggleable\"><input class=\"sk-toggleable__control sk-hidden--visually\" id=\"sk-estimator-id-1\" type=\"checkbox\" checked><label for=\"sk-estimator-id-1\" class=\"sk-toggleable__label sk-toggleable__label-arrow\">XGBClassifier</label><div class=\"sk-toggleable__content\"><pre>XGBClassifier(base_score=None, booster=None, callbacks=None,\n              colsample_bylevel=None, colsample_bynode=None,\n              colsample_bytree=None, device=None, early_stopping_rounds=None,\n              enable_categorical=False, eval_metric=None, feature_types=None,\n              gamma=None, grow_policy=None, importance_type=None,\n              interaction_constraints=None, learning_rate=None, max_bin=None,\n              max_cat_threshold=None, max_cat_to_onehot=None,\n              max_delta_step=None, max_depth=None, max_leaves=None,\n              min_child_weight=None, missing=nan, monotone_constraints=None,\n              multi_strategy=None, n_estimators=None, n_jobs=None,\n              num_parallel_tree=None, objective=&#x27;multi:softmax&#x27;, ...)</pre></div></div></div></div></div>"
     },
     "execution_count": 22,
     "metadata": {},
     "output_type": "execute_result"
    }
   ],
   "source": [
    "classifier = xgb.XGBClassifier(objective='multi:softmax')\n",
    "enc = Encoder()\n",
    "\n",
    "y_train_XG = enc.fit(y_train)\n",
    "X_train_XG = X_train.to_numpy()\n",
    "X_train_XG = np.array(X_train_XG,dtype=np.float64)\n",
    "\n",
    "classifier.fit(X_train_XG, y_train_XG)"
   ],
   "metadata": {
    "collapsed": false,
    "pycharm": {
     "name": "#%%\n"
    }
   }
  },
  {
   "cell_type": "code",
   "execution_count": 26,
   "outputs": [
    {
     "name": "stdout",
     "output_type": "stream",
     "text": [
      "Training Accuracy: 99.97915943035777\n"
     ]
    }
   ],
   "source": [
    "train_predictions_XGB = predict_XG(encoder=enc, classifier=classifier, X=X_train)\n",
    "train_accuracy_XGB = calculate_accuracy(y_train, pd.DataFrame(train_predictions_XGB))\n",
    "print(f\"Training Accuracy: {train_accuracy_XGB*100}\")"
   ],
   "metadata": {
    "collapsed": false,
    "pycharm": {
     "name": "#%%\n"
    }
   }
  },
  {
   "cell_type": "code",
   "execution_count": 28,
   "outputs": [
    {
     "name": "stdout",
     "output_type": "stream",
     "text": [
      "Validation Accuracy: 73.24256737982773\n"
     ]
    }
   ],
   "source": [
    "val_predictions_XGB = predict_XG(encoder=enc, classifier=classifier, X=X_val)\n",
    "val_accuracy_XGB = calculate_accuracy(y_val, pd.DataFrame(val_predictions_XGB))\n",
    "print(f\"Validation Accuracy: {val_accuracy_XGB*100}\")"
   ],
   "metadata": {
    "collapsed": false,
    "pycharm": {
     "name": "#%%\n"
    }
   }
  },
  {
   "cell_type": "code",
   "execution_count": 29,
   "outputs": [
    {
     "name": "stdout",
     "output_type": "stream",
     "text": [
      "Test Accuracy: 73.79417648366304\n"
     ]
    }
   ],
   "source": [
    "test_predictions_XGB = predict_XG(encoder=enc, classifier=classifier, X=X_test)\n",
    "test_accuracy_XGB = calculate_accuracy(y_test, pd.DataFrame(test_predictions_XGB))\n",
    "print(f\"Test Accuracy: {test_accuracy_XGB*100}\")"
   ],
   "metadata": {
    "collapsed": false,
    "pycharm": {
     "name": "#%%\n"
    }
   }
  },
  {
   "cell_type": "markdown",
   "metadata": {
    "pycharm": {
     "name": "#%% md\n"
    }
   },
   "source": [
    "**QUESTION**: What do you think about this approach? Is it a good idea to use XGBoost for this problem? Why (or why not)? If the patterns in our datatset (passengers' history) get more complicated, will our model be robust to it in comparison to other models?\n",
    "\n",
    "Your Answer:\n",
    "***\n",
    "\n",
    "***Using XGBoost is a good choice for this problem, particularly given its significant improvement in test accuracy (73%) compared to KNN (33%). XGBoost is known for handling structured data efficiently and dealing well with a mix of numerical and categorical features. It's also robust to overfitting and capable of capturing complex patterns in data, which suggests it could continue to perform well as the dataset's complexity increases. However, while XGBoost offers better performance and scalability than KNN, it may still be less interpretable than simpler models and requires careful tuning of its hyperparameters.***\n",
    "\n",
    "***"
   ]
  },
  {
   "cell_type": "markdown",
   "metadata": {
    "pycharm": {
     "name": "#%% md\n"
    }
   },
   "source": [
    "**Question**: Please explain the problem of overfitting in XGBoost. How can you solve it? Provide a brief explanation.\n",
    "\n",
    "Your Answer:\n",
    "\n",
    "***\n",
    "\n",
    "***Overfitting in XGBoost occurs when the model learns the training data too well, including its noise and outliers, leading to poor generalization on unseen data. This is often due to excessively complex models with too many trees or trees that are too deep. To solve overfitting in XGBoost, you can:\n",
    "Limit the complexity of the individual trees by setting a maximum depth (max_depth) and minimum child weight (min_child_weight).\n",
    "Use regularization parameters like gamma (minimum loss reduction for further partition), lambda (L2 regularization), and alpha (L1 regularization) to penalize complex models.\n",
    "Implement early stopping to halt training when the performance on a validation set stops improving.\n",
    "Reduce the learning rate (eta) and increase the number of boosting rounds (n_estimators) for more gradual learning.\n",
    "These measures help in creating a more generalized model that performs better on unseen data.***\n",
    "\n",
    "***"
   ]
  },
  {
   "cell_type": "markdown",
   "metadata": {
    "pycharm": {
     "name": "#%% md\n"
    }
   },
   "source": [
    "# Third Approach: Classifier Using Neural Networks"
   ]
  },
  {
   "cell_type": "markdown",
   "metadata": {
    "pycharm": {
     "name": "#%% md\n"
    }
   },
   "source": [
    "In this approach, we are going to use a classifier using neural networks. You can think of this approach and how to model the problem as a classification problem in many ways! So, we are not going to restrict your creativity. Just a hint: You can consider each of the unique destinations (in whole dataset) as a class and then train a classifier to classify the destinations."
   ]
  },
  {
   "cell_type": "markdown",
   "metadata": {
    "pycharm": {
     "name": "#%% md\n"
    }
   },
   "source": [
    "## Data for Neural Network"
   ]
  },
  {
   "cell_type": "markdown",
   "metadata": {
    "pycharm": {
     "name": "#%% md\n"
    }
   },
   "source": [
    "Let's prepare the data for our neural network. Again, you should extract required features from the dataset and then split the dataset into train-test-val sets if necessary. For your ease, we prepared another version of `output.json` that helps you to extract features for this part, easier. So, please load `Data/trip_data.json` and use it for training set and validation set. You should use `Data/trip_data_test.json` for testing your model."
   ]
  },
  {
   "cell_type": "code",
   "execution_count": 30,
   "metadata": {
    "pycharm": {
     "name": "#%%\n"
    }
   },
   "outputs": [
    {
     "data": {
      "text/plain": "   user_id  Day                          origin  \\\n0        0    0        [work, [35.625, 51.375]]   \n1        0    0    [restaurant, [36.0, 51.085]]   \n2        0    0         [home, [35.68, 51.445]]   \n3        0    0  [restaurant, [35.745, 51.465]]   \n4        0    1        [work, [35.625, 51.375]]   \n\n                      destination          start_time            end_time  \\\n0    [restaurant, [36.0, 51.085]] 2024-01-30 13:07:00 2024-01-30 14:43:00   \n1        [work, [35.625, 51.375]] 2024-01-30 15:13:00 2024-01-30 16:49:00   \n2  [restaurant, [35.745, 51.465]] 2024-01-30 20:41:00 2024-01-30 20:54:00   \n3         [home, [35.68, 51.445]] 2024-01-30 21:24:00 2024-01-30 21:37:00   \n4         [home, [35.68, 51.445]] 2024-01-30 23:38:00 2024-01-30 23:58:00   \n\n   price  \n0  43.99  \n1  36.66  \n2  15.08  \n3  10.00  \n4  19.48  ",
      "text/html": "<div>\n<style scoped>\n    .dataframe tbody tr th:only-of-type {\n        vertical-align: middle;\n    }\n\n    .dataframe tbody tr th {\n        vertical-align: top;\n    }\n\n    .dataframe thead th {\n        text-align: right;\n    }\n</style>\n<table border=\"1\" class=\"dataframe\">\n  <thead>\n    <tr style=\"text-align: right;\">\n      <th></th>\n      <th>user_id</th>\n      <th>Day</th>\n      <th>origin</th>\n      <th>destination</th>\n      <th>start_time</th>\n      <th>end_time</th>\n      <th>price</th>\n    </tr>\n  </thead>\n  <tbody>\n    <tr>\n      <th>0</th>\n      <td>0</td>\n      <td>0</td>\n      <td>[work, [35.625, 51.375]]</td>\n      <td>[restaurant, [36.0, 51.085]]</td>\n      <td>2024-01-30 13:07:00</td>\n      <td>2024-01-30 14:43:00</td>\n      <td>43.99</td>\n    </tr>\n    <tr>\n      <th>1</th>\n      <td>0</td>\n      <td>0</td>\n      <td>[restaurant, [36.0, 51.085]]</td>\n      <td>[work, [35.625, 51.375]]</td>\n      <td>2024-01-30 15:13:00</td>\n      <td>2024-01-30 16:49:00</td>\n      <td>36.66</td>\n    </tr>\n    <tr>\n      <th>2</th>\n      <td>0</td>\n      <td>0</td>\n      <td>[home, [35.68, 51.445]]</td>\n      <td>[restaurant, [35.745, 51.465]]</td>\n      <td>2024-01-30 20:41:00</td>\n      <td>2024-01-30 20:54:00</td>\n      <td>15.08</td>\n    </tr>\n    <tr>\n      <th>3</th>\n      <td>0</td>\n      <td>0</td>\n      <td>[restaurant, [35.745, 51.465]]</td>\n      <td>[home, [35.68, 51.445]]</td>\n      <td>2024-01-30 21:24:00</td>\n      <td>2024-01-30 21:37:00</td>\n      <td>10.00</td>\n    </tr>\n    <tr>\n      <th>4</th>\n      <td>0</td>\n      <td>1</td>\n      <td>[work, [35.625, 51.375]]</td>\n      <td>[home, [35.68, 51.445]]</td>\n      <td>2024-01-30 23:38:00</td>\n      <td>2024-01-30 23:58:00</td>\n      <td>19.48</td>\n    </tr>\n  </tbody>\n</table>\n</div>"
     },
     "execution_count": 30,
     "metadata": {},
     "output_type": "execute_result"
    }
   ],
   "source": [
    "data_train = pd.read_json('Data/trip_data.json')\n",
    "data_train.head(5)"
   ]
  },
  {
   "cell_type": "code",
   "execution_count": 31,
   "metadata": {
    "pycharm": {
     "name": "#%%\n"
    }
   },
   "outputs": [
    {
     "data": {
      "text/plain": "   user_id  Day                         origin  \\\n0       24    6        [pool, [35.65, 51.225]]   \n1       46    2  [university, [35.625, 51.25]]   \n2       27    5        [pool, [35.65, 51.225]]   \n3        7    4       [work, [35.875, 51.375]]   \n4       27    3       [work, [35.625, 51.375]]   \n\n                      destination          start_time            end_time  \\\n0          [home, [35.64, 51.27]] 2024-01-30 11:58:00 2024-01-30 12:12:00   \n1   [restaurant, [35.69, 51.295]] 2024-01-30 21:58:00 2024-01-30 22:18:00   \n2  [restaurant, [35.865, 51.045]] 2024-01-30 20:05:00 2024-01-30 20:58:00   \n3         [home, [35.89, 51.315]] 2024-01-30 17:39:00 2024-01-30 18:17:00   \n4   [restaurant, [35.65, 51.385]] 2024-01-30 13:16:00 2024-01-30 13:19:00   \n\n   price  \n0  10.00  \n1  11.84  \n2  23.36  \n3  13.74  \n4  15.08  ",
      "text/html": "<div>\n<style scoped>\n    .dataframe tbody tr th:only-of-type {\n        vertical-align: middle;\n    }\n\n    .dataframe tbody tr th {\n        vertical-align: top;\n    }\n\n    .dataframe thead th {\n        text-align: right;\n    }\n</style>\n<table border=\"1\" class=\"dataframe\">\n  <thead>\n    <tr style=\"text-align: right;\">\n      <th></th>\n      <th>user_id</th>\n      <th>Day</th>\n      <th>origin</th>\n      <th>destination</th>\n      <th>start_time</th>\n      <th>end_time</th>\n      <th>price</th>\n    </tr>\n  </thead>\n  <tbody>\n    <tr>\n      <th>0</th>\n      <td>24</td>\n      <td>6</td>\n      <td>[pool, [35.65, 51.225]]</td>\n      <td>[home, [35.64, 51.27]]</td>\n      <td>2024-01-30 11:58:00</td>\n      <td>2024-01-30 12:12:00</td>\n      <td>10.00</td>\n    </tr>\n    <tr>\n      <th>1</th>\n      <td>46</td>\n      <td>2</td>\n      <td>[university, [35.625, 51.25]]</td>\n      <td>[restaurant, [35.69, 51.295]]</td>\n      <td>2024-01-30 21:58:00</td>\n      <td>2024-01-30 22:18:00</td>\n      <td>11.84</td>\n    </tr>\n    <tr>\n      <th>2</th>\n      <td>27</td>\n      <td>5</td>\n      <td>[pool, [35.65, 51.225]]</td>\n      <td>[restaurant, [35.865, 51.045]]</td>\n      <td>2024-01-30 20:05:00</td>\n      <td>2024-01-30 20:58:00</td>\n      <td>23.36</td>\n    </tr>\n    <tr>\n      <th>3</th>\n      <td>7</td>\n      <td>4</td>\n      <td>[work, [35.875, 51.375]]</td>\n      <td>[home, [35.89, 51.315]]</td>\n      <td>2024-01-30 17:39:00</td>\n      <td>2024-01-30 18:17:00</td>\n      <td>13.74</td>\n    </tr>\n    <tr>\n      <th>4</th>\n      <td>27</td>\n      <td>3</td>\n      <td>[work, [35.625, 51.375]]</td>\n      <td>[restaurant, [35.65, 51.385]]</td>\n      <td>2024-01-30 13:16:00</td>\n      <td>2024-01-30 13:19:00</td>\n      <td>15.08</td>\n    </tr>\n  </tbody>\n</table>\n</div>"
     },
     "execution_count": 31,
     "metadata": {},
     "output_type": "execute_result"
    }
   ],
   "source": [
    "data_test = pd.read_json('Data/trip_data_test.json')\n",
    "data_test.head(5)"
   ]
  },
  {
   "cell_type": "code",
   "execution_count": 32,
   "outputs": [],
   "source": [
    "def feature_engineering_neural_net(df):\n",
    "    # time features\n",
    "    df['hour_of_start'] = df['start_time'].dt.hour\n",
    "    # df['day_of_start'] = df['start_time'].dt.day\n",
    "    df['trip_duration'] = (df['end_time'] - df['start_time']).dt.total_seconds() / 60\n",
    "\n",
    "    # origin loc features\n",
    "    df[['origin_label', 'origin_coordinate']] = pd.DataFrame(df['origin'].tolist(), index=df.index)\n",
    "    df[['origin_lat', 'origin_lon']] = pd.DataFrame(df['origin_coordinate'].tolist(), index=df.index)\n",
    "\n",
    "    # destination loc features\n",
    "    df[['destination_label', 'destination_coordinate']] = pd.DataFrame(df['destination'].tolist(), index=df.index)\n",
    "    df[['destination_lat', 'destination_lon']] = pd.DataFrame(df['destination_coordinate'].tolist(), index=df.index)\n",
    "\n",
    "    # encode the origin and destination labels\n",
    "    all_labels = pd.concat([df['origin_label'], df['destination_label']])\n",
    "    label_encoder = LabelEncoder()\n",
    "    label_encoder.fit(all_labels)\n",
    "    df['origin_label'] = label_encoder.transform(df['origin_label'])\n",
    "    df['destination_label'] = label_encoder.transform(df['destination_label'])\n",
    "\n",
    "    return df, label_encoder"
   ],
   "metadata": {
    "collapsed": false,
    "pycharm": {
     "name": "#%%\n"
    }
   }
  },
  {
   "cell_type": "code",
   "execution_count": 33,
   "metadata": {
    "pycharm": {
     "name": "#%%\n"
    }
   },
   "outputs": [
    {
     "data": {
      "text/plain": "       user_id  Day                          origin  \\\n0            0    0        [work, [35.625, 51.375]]   \n1            0    0    [restaurant, [36.0, 51.085]]   \n2            0    0         [home, [35.68, 51.445]]   \n3            0    0  [restaurant, [35.745, 51.465]]   \n4            0    1        [work, [35.625, 51.375]]   \n...        ...  ...                             ...   \n17989       59    0         [home, [35.95, 51.225]]   \n17990       59    0        [work, [35.875, 51.125]]   \n17991       59    0        [work, [35.875, 51.125]]   \n17992       59    0          [pool, [35.525, 51.1]]   \n17993       59    0   [restaurant, [35.815, 51.32]]   \n\n                          destination          start_time            end_time  \\\n0        [restaurant, [36.0, 51.085]] 2024-01-30 13:07:00 2024-01-30 14:43:00   \n1            [work, [35.625, 51.375]] 2024-01-30 15:13:00 2024-01-30 16:49:00   \n2      [restaurant, [35.745, 51.465]] 2024-01-30 20:41:00 2024-01-30 20:54:00   \n3             [home, [35.68, 51.445]] 2024-01-30 21:24:00 2024-01-30 21:37:00   \n4             [home, [35.68, 51.445]] 2024-01-30 23:38:00 2024-01-30 23:58:00   \n...                               ...                 ...                 ...   \n17989        [work, [35.875, 51.125]] 2024-01-30 06:41:00 2024-01-30 07:07:00   \n17990   [restaurant, [35.69, 51.295]] 2024-01-30 12:46:00 2024-01-30 13:35:00   \n17991          [pool, [35.525, 51.1]] 2024-01-30 17:39:00 2024-01-30 18:48:00   \n17992   [restaurant, [35.815, 51.32]] 2024-01-30 20:09:00 2024-01-30 21:19:00   \n17993         [home, [35.95, 51.225]] 2024-01-30 21:49:00 2024-01-30 22:21:00   \n\n       price  hour_of_start  trip_duration  origin_label origin_coordinate  \\\n0      43.99             13           96.0             6  [35.625, 51.375]   \n1      36.66             15           96.0             4    [36.0, 51.085]   \n2      15.08             20           13.0             1   [35.68, 51.445]   \n3      10.00             21           13.0             4  [35.745, 51.465]   \n4      19.48             23           20.0             6  [35.625, 51.375]   \n...      ...            ...            ...           ...               ...   \n17989  10.92              6           26.0             1   [35.95, 51.225]   \n17990  17.35             12           49.0             6  [35.875, 51.125]   \n17991  34.56             17           69.0             6  [35.875, 51.125]   \n17992  36.80             20           70.0             3    [35.525, 51.1]   \n17993  11.22             21           32.0             4   [35.815, 51.32]   \n\n       origin_lat  origin_lon  destination_label destination_coordinate  \\\n0          35.625      51.375                  4         [36.0, 51.085]   \n1          36.000      51.085                  6       [35.625, 51.375]   \n2          35.680      51.445                  4       [35.745, 51.465]   \n3          35.745      51.465                  1        [35.68, 51.445]   \n4          35.625      51.375                  1        [35.68, 51.445]   \n...           ...         ...                ...                    ...   \n17989      35.950      51.225                  6       [35.875, 51.125]   \n17990      35.875      51.125                  4        [35.69, 51.295]   \n17991      35.875      51.125                  3         [35.525, 51.1]   \n17992      35.525      51.100                  4        [35.815, 51.32]   \n17993      35.815      51.320                  1        [35.95, 51.225]   \n\n       destination_lat  destination_lon  \n0               36.000           51.085  \n1               35.625           51.375  \n2               35.745           51.465  \n3               35.680           51.445  \n4               35.680           51.445  \n...                ...              ...  \n17989           35.875           51.125  \n17990           35.690           51.295  \n17991           35.525           51.100  \n17992           35.815           51.320  \n17993           35.950           51.225  \n\n[17994 rows x 17 columns]",
      "text/html": "<div>\n<style scoped>\n    .dataframe tbody tr th:only-of-type {\n        vertical-align: middle;\n    }\n\n    .dataframe tbody tr th {\n        vertical-align: top;\n    }\n\n    .dataframe thead th {\n        text-align: right;\n    }\n</style>\n<table border=\"1\" class=\"dataframe\">\n  <thead>\n    <tr style=\"text-align: right;\">\n      <th></th>\n      <th>user_id</th>\n      <th>Day</th>\n      <th>origin</th>\n      <th>destination</th>\n      <th>start_time</th>\n      <th>end_time</th>\n      <th>price</th>\n      <th>hour_of_start</th>\n      <th>trip_duration</th>\n      <th>origin_label</th>\n      <th>origin_coordinate</th>\n      <th>origin_lat</th>\n      <th>origin_lon</th>\n      <th>destination_label</th>\n      <th>destination_coordinate</th>\n      <th>destination_lat</th>\n      <th>destination_lon</th>\n    </tr>\n  </thead>\n  <tbody>\n    <tr>\n      <th>0</th>\n      <td>0</td>\n      <td>0</td>\n      <td>[work, [35.625, 51.375]]</td>\n      <td>[restaurant, [36.0, 51.085]]</td>\n      <td>2024-01-30 13:07:00</td>\n      <td>2024-01-30 14:43:00</td>\n      <td>43.99</td>\n      <td>13</td>\n      <td>96.0</td>\n      <td>6</td>\n      <td>[35.625, 51.375]</td>\n      <td>35.625</td>\n      <td>51.375</td>\n      <td>4</td>\n      <td>[36.0, 51.085]</td>\n      <td>36.000</td>\n      <td>51.085</td>\n    </tr>\n    <tr>\n      <th>1</th>\n      <td>0</td>\n      <td>0</td>\n      <td>[restaurant, [36.0, 51.085]]</td>\n      <td>[work, [35.625, 51.375]]</td>\n      <td>2024-01-30 15:13:00</td>\n      <td>2024-01-30 16:49:00</td>\n      <td>36.66</td>\n      <td>15</td>\n      <td>96.0</td>\n      <td>4</td>\n      <td>[36.0, 51.085]</td>\n      <td>36.000</td>\n      <td>51.085</td>\n      <td>6</td>\n      <td>[35.625, 51.375]</td>\n      <td>35.625</td>\n      <td>51.375</td>\n    </tr>\n    <tr>\n      <th>2</th>\n      <td>0</td>\n      <td>0</td>\n      <td>[home, [35.68, 51.445]]</td>\n      <td>[restaurant, [35.745, 51.465]]</td>\n      <td>2024-01-30 20:41:00</td>\n      <td>2024-01-30 20:54:00</td>\n      <td>15.08</td>\n      <td>20</td>\n      <td>13.0</td>\n      <td>1</td>\n      <td>[35.68, 51.445]</td>\n      <td>35.680</td>\n      <td>51.445</td>\n      <td>4</td>\n      <td>[35.745, 51.465]</td>\n      <td>35.745</td>\n      <td>51.465</td>\n    </tr>\n    <tr>\n      <th>3</th>\n      <td>0</td>\n      <td>0</td>\n      <td>[restaurant, [35.745, 51.465]]</td>\n      <td>[home, [35.68, 51.445]]</td>\n      <td>2024-01-30 21:24:00</td>\n      <td>2024-01-30 21:37:00</td>\n      <td>10.00</td>\n      <td>21</td>\n      <td>13.0</td>\n      <td>4</td>\n      <td>[35.745, 51.465]</td>\n      <td>35.745</td>\n      <td>51.465</td>\n      <td>1</td>\n      <td>[35.68, 51.445]</td>\n      <td>35.680</td>\n      <td>51.445</td>\n    </tr>\n    <tr>\n      <th>4</th>\n      <td>0</td>\n      <td>1</td>\n      <td>[work, [35.625, 51.375]]</td>\n      <td>[home, [35.68, 51.445]]</td>\n      <td>2024-01-30 23:38:00</td>\n      <td>2024-01-30 23:58:00</td>\n      <td>19.48</td>\n      <td>23</td>\n      <td>20.0</td>\n      <td>6</td>\n      <td>[35.625, 51.375]</td>\n      <td>35.625</td>\n      <td>51.375</td>\n      <td>1</td>\n      <td>[35.68, 51.445]</td>\n      <td>35.680</td>\n      <td>51.445</td>\n    </tr>\n    <tr>\n      <th>...</th>\n      <td>...</td>\n      <td>...</td>\n      <td>...</td>\n      <td>...</td>\n      <td>...</td>\n      <td>...</td>\n      <td>...</td>\n      <td>...</td>\n      <td>...</td>\n      <td>...</td>\n      <td>...</td>\n      <td>...</td>\n      <td>...</td>\n      <td>...</td>\n      <td>...</td>\n      <td>...</td>\n      <td>...</td>\n    </tr>\n    <tr>\n      <th>17989</th>\n      <td>59</td>\n      <td>0</td>\n      <td>[home, [35.95, 51.225]]</td>\n      <td>[work, [35.875, 51.125]]</td>\n      <td>2024-01-30 06:41:00</td>\n      <td>2024-01-30 07:07:00</td>\n      <td>10.92</td>\n      <td>6</td>\n      <td>26.0</td>\n      <td>1</td>\n      <td>[35.95, 51.225]</td>\n      <td>35.950</td>\n      <td>51.225</td>\n      <td>6</td>\n      <td>[35.875, 51.125]</td>\n      <td>35.875</td>\n      <td>51.125</td>\n    </tr>\n    <tr>\n      <th>17990</th>\n      <td>59</td>\n      <td>0</td>\n      <td>[work, [35.875, 51.125]]</td>\n      <td>[restaurant, [35.69, 51.295]]</td>\n      <td>2024-01-30 12:46:00</td>\n      <td>2024-01-30 13:35:00</td>\n      <td>17.35</td>\n      <td>12</td>\n      <td>49.0</td>\n      <td>6</td>\n      <td>[35.875, 51.125]</td>\n      <td>35.875</td>\n      <td>51.125</td>\n      <td>4</td>\n      <td>[35.69, 51.295]</td>\n      <td>35.690</td>\n      <td>51.295</td>\n    </tr>\n    <tr>\n      <th>17991</th>\n      <td>59</td>\n      <td>0</td>\n      <td>[work, [35.875, 51.125]]</td>\n      <td>[pool, [35.525, 51.1]]</td>\n      <td>2024-01-30 17:39:00</td>\n      <td>2024-01-30 18:48:00</td>\n      <td>34.56</td>\n      <td>17</td>\n      <td>69.0</td>\n      <td>6</td>\n      <td>[35.875, 51.125]</td>\n      <td>35.875</td>\n      <td>51.125</td>\n      <td>3</td>\n      <td>[35.525, 51.1]</td>\n      <td>35.525</td>\n      <td>51.100</td>\n    </tr>\n    <tr>\n      <th>17992</th>\n      <td>59</td>\n      <td>0</td>\n      <td>[pool, [35.525, 51.1]]</td>\n      <td>[restaurant, [35.815, 51.32]]</td>\n      <td>2024-01-30 20:09:00</td>\n      <td>2024-01-30 21:19:00</td>\n      <td>36.80</td>\n      <td>20</td>\n      <td>70.0</td>\n      <td>3</td>\n      <td>[35.525, 51.1]</td>\n      <td>35.525</td>\n      <td>51.100</td>\n      <td>4</td>\n      <td>[35.815, 51.32]</td>\n      <td>35.815</td>\n      <td>51.320</td>\n    </tr>\n    <tr>\n      <th>17993</th>\n      <td>59</td>\n      <td>0</td>\n      <td>[restaurant, [35.815, 51.32]]</td>\n      <td>[home, [35.95, 51.225]]</td>\n      <td>2024-01-30 21:49:00</td>\n      <td>2024-01-30 22:21:00</td>\n      <td>11.22</td>\n      <td>21</td>\n      <td>32.0</td>\n      <td>4</td>\n      <td>[35.815, 51.32]</td>\n      <td>35.815</td>\n      <td>51.320</td>\n      <td>1</td>\n      <td>[35.95, 51.225]</td>\n      <td>35.950</td>\n      <td>51.225</td>\n    </tr>\n  </tbody>\n</table>\n<p>17994 rows × 17 columns</p>\n</div>"
     },
     "execution_count": 33,
     "metadata": {},
     "output_type": "execute_result"
    }
   ],
   "source": [
    "data_train, train_label_encoder = feature_engineering_neural_net(data_train)\n",
    "data_test, test_label_encoder = feature_engineering_neural_net(data_test)\n",
    "data_train"
   ]
  },
  {
   "cell_type": "code",
   "execution_count": 34,
   "outputs": [
    {
     "data": {
      "text/plain": "       user_id  Day  hour_of_start  trip_duration  origin_label  origin_lat  \\\n10541       36    4             13           50.0             6      35.625   \n6162        20    1             13           34.0             6      35.875   \n1166         4    3             13           13.0             4      35.705   \n9320        31    4             12           86.0             5      35.625   \n9193        31    6             22           95.0             4      35.510   \n...        ...  ...            ...            ...           ...         ...   \n3696        13    1             15          106.0             4      35.995   \n15415       52    1             17           36.0             6      35.625   \n3918        13    4             14            6.0             4      35.650   \n5291        18    1              7           62.0             1      35.950   \n13734       45    1             13           23.0             4      35.970   \n\n       origin_lon  price  \n10541      51.125  26.61  \n6162       51.375  21.66  \n1166       51.295  10.00  \n9320       51.250  34.91  \n9193       51.155  41.62  \n...           ...    ...  \n3696       51.000  44.85  \n15415      51.125  20.36  \n3918       51.385  16.16  \n5291       51.280  26.83  \n13734      51.215  22.01  \n\n[14395 rows x 8 columns]",
      "text/html": "<div>\n<style scoped>\n    .dataframe tbody tr th:only-of-type {\n        vertical-align: middle;\n    }\n\n    .dataframe tbody tr th {\n        vertical-align: top;\n    }\n\n    .dataframe thead th {\n        text-align: right;\n    }\n</style>\n<table border=\"1\" class=\"dataframe\">\n  <thead>\n    <tr style=\"text-align: right;\">\n      <th></th>\n      <th>user_id</th>\n      <th>Day</th>\n      <th>hour_of_start</th>\n      <th>trip_duration</th>\n      <th>origin_label</th>\n      <th>origin_lat</th>\n      <th>origin_lon</th>\n      <th>price</th>\n    </tr>\n  </thead>\n  <tbody>\n    <tr>\n      <th>10541</th>\n      <td>36</td>\n      <td>4</td>\n      <td>13</td>\n      <td>50.0</td>\n      <td>6</td>\n      <td>35.625</td>\n      <td>51.125</td>\n      <td>26.61</td>\n    </tr>\n    <tr>\n      <th>6162</th>\n      <td>20</td>\n      <td>1</td>\n      <td>13</td>\n      <td>34.0</td>\n      <td>6</td>\n      <td>35.875</td>\n      <td>51.375</td>\n      <td>21.66</td>\n    </tr>\n    <tr>\n      <th>1166</th>\n      <td>4</td>\n      <td>3</td>\n      <td>13</td>\n      <td>13.0</td>\n      <td>4</td>\n      <td>35.705</td>\n      <td>51.295</td>\n      <td>10.00</td>\n    </tr>\n    <tr>\n      <th>9320</th>\n      <td>31</td>\n      <td>4</td>\n      <td>12</td>\n      <td>86.0</td>\n      <td>5</td>\n      <td>35.625</td>\n      <td>51.250</td>\n      <td>34.91</td>\n    </tr>\n    <tr>\n      <th>9193</th>\n      <td>31</td>\n      <td>6</td>\n      <td>22</td>\n      <td>95.0</td>\n      <td>4</td>\n      <td>35.510</td>\n      <td>51.155</td>\n      <td>41.62</td>\n    </tr>\n    <tr>\n      <th>...</th>\n      <td>...</td>\n      <td>...</td>\n      <td>...</td>\n      <td>...</td>\n      <td>...</td>\n      <td>...</td>\n      <td>...</td>\n      <td>...</td>\n    </tr>\n    <tr>\n      <th>3696</th>\n      <td>13</td>\n      <td>1</td>\n      <td>15</td>\n      <td>106.0</td>\n      <td>4</td>\n      <td>35.995</td>\n      <td>51.000</td>\n      <td>44.85</td>\n    </tr>\n    <tr>\n      <th>15415</th>\n      <td>52</td>\n      <td>1</td>\n      <td>17</td>\n      <td>36.0</td>\n      <td>6</td>\n      <td>35.625</td>\n      <td>51.125</td>\n      <td>20.36</td>\n    </tr>\n    <tr>\n      <th>3918</th>\n      <td>13</td>\n      <td>4</td>\n      <td>14</td>\n      <td>6.0</td>\n      <td>4</td>\n      <td>35.650</td>\n      <td>51.385</td>\n      <td>16.16</td>\n    </tr>\n    <tr>\n      <th>5291</th>\n      <td>18</td>\n      <td>1</td>\n      <td>7</td>\n      <td>62.0</td>\n      <td>1</td>\n      <td>35.950</td>\n      <td>51.280</td>\n      <td>26.83</td>\n    </tr>\n    <tr>\n      <th>13734</th>\n      <td>45</td>\n      <td>1</td>\n      <td>13</td>\n      <td>23.0</td>\n      <td>4</td>\n      <td>35.970</td>\n      <td>51.215</td>\n      <td>22.01</td>\n    </tr>\n  </tbody>\n</table>\n<p>14395 rows × 8 columns</p>\n</div>"
     },
     "execution_count": 34,
     "metadata": {},
     "output_type": "execute_result"
    }
   ],
   "source": [
    "X = data_train[['user_id', 'Day', 'hour_of_start', 'trip_duration', 'origin_label', 'origin_lat', 'origin_lon', 'price']]\n",
    "y = data_train['destination_label']\n",
    "X_train, X_val, y_train, y_val = train_test_split(X, y, test_size=0.2)\n",
    "X_test = data_test[['user_id', 'Day', 'hour_of_start', 'trip_duration', 'origin_label', 'origin_lat', 'origin_lon', 'price']]\n",
    "y_test = data_test['destination_label']\n",
    "X_train"
   ],
   "metadata": {
    "collapsed": false,
    "pycharm": {
     "name": "#%%\n"
    }
   }
  },
  {
   "cell_type": "code",
   "execution_count": 35,
   "outputs": [
    {
     "data": {
      "text/plain": "10541    4\n6162     4\n1166     5\n9320     4\n9193     1\n        ..\n3696     6\n15415    3\n3918     6\n5291     5\n13734    5\nName: destination_label, Length: 14395, dtype: int32"
     },
     "execution_count": 35,
     "metadata": {},
     "output_type": "execute_result"
    }
   ],
   "source": [
    "y_train"
   ],
   "metadata": {
    "collapsed": false,
    "pycharm": {
     "name": "#%%\n"
    }
   }
  },
  {
   "cell_type": "code",
   "execution_count": 36,
   "metadata": {
    "pycharm": {
     "name": "#%%\n"
    }
   },
   "outputs": [
    {
     "name": "stdout",
     "output_type": "stream",
     "text": [
      "Unique values in 'user_id': [36 20  4 31 35 57 25 39 16  5 34  2 14 43 23 38 41 59 48 46 11 49 24 21\n",
      "  9 40 47 17 15 19 28 22 18 13 55  8  1 30 26 58 33 32 42 51 12  0 52 45\n",
      "  6 50 53 54 10 29 37 27  3 56  7 44]\n",
      "Unique values in 'Day': [4 1 3 6 2 0 5]\n",
      "Unique values in 'hour_of_start': [13 12 22  7 14 21  8  9 11 17 20  6 23 15 16 19 10 18]\n",
      "Unique values in 'trip_duration': [ 50.  34.  13.  86.  95.  14.  31.  36.   6.  79.  65.   2.  55.  46.\n",
      "  37.  29.  80.  17.  63.   9.  45.  27.  28.  15.  19.  22.  67.  60.\n",
      "  32.  10.  20.  16.  25.  74.  23.  68.  24.  40.  21.  54.  62.  75.\n",
      "  49.  58.  78.  26.  61.  30.  35.   7.  33.  73.  94.  12. 105.  42.\n",
      "  18.  43.  69.   5.  64.  52.  93.  11.  71.  41.  82.   8.  53.   4.\n",
      "   3.  56.  39.   1.  38.  47.  48.  76.  85.  66. 108.  89.  51.  44.\n",
      " 110.  72.  77.  81.  70.  83.  99.  59.  57. 104.  84. 103. 107. 128.\n",
      " 106. 113.  96. 102.  91. 101. 100.  88.  87.  90.  92.  98. 114. 109.\n",
      "  97. 123. 112. 122. 111. 126. 120. 115. 121. 135. 118. 132. 119. 127.\n",
      " 134. 117. 116.]\n",
      "Unique values in 'origin_label': [6 4 5 1 0 3 2]\n",
      "Unique values in 'origin_lat': [35.625 35.875 35.705 35.51  35.945 35.745 35.84  36.    35.53  35.5\n",
      " 35.8   35.69  35.64  35.71  35.82  35.81  35.93  35.975 35.565 35.735\n",
      " 35.75  35.89  35.955 35.74  35.555 35.99  35.815 35.675 35.68  35.575\n",
      " 35.7   35.83  35.9   35.765 35.505 35.785 35.525 35.55  35.725 35.52\n",
      " 35.76  35.95  35.65  35.905 35.855 35.97  35.775 35.77  35.615 35.635\n",
      " 35.535 35.805 35.62  35.845 35.865 35.54  35.595 35.995 35.98  35.545\n",
      " 35.825 35.56  35.59  35.91 ]\n",
      "Unique values in 'origin_lon': [51.125 51.375 51.295 51.25  51.155 51.415 51.465 51.24  51.085 51.485\n",
      " 51.29  51.1   51.12  51.09  51.225 51.11  51.235 51.06  51.2   51.385\n",
      " 51.315 51.185 51.045 51.195 51.18  51.32  51.31  51.135 51.15  51.115\n",
      " 51.495 51.075 51.445 51.17  51.3   51.285 51.435 51.035 51.35  51.5\n",
      " 51.215 51.165 51.275 51.21  51.4   51.245 51.175 51.37  51.47  51.305\n",
      " 51.345 51.27  51.46  51.    51.13  51.26  51.475 51.025 51.39  51.05\n",
      " 51.145 51.095 51.42  51.28  51.19 ]\n",
      "Unique values in 'price': [26.61 21.66 10.   ... 45.21 36.3  44.85]\n"
     ]
    }
   ],
   "source": [
    "for column in X_train.columns:\n",
    "    unique_values = X_train[column].unique()\n",
    "    print(f\"Unique values in '{column}': {unique_values}\")"
   ]
  },
  {
   "cell_type": "code",
   "execution_count": 37,
   "metadata": {
    "pycharm": {
     "name": "#%%\n"
    }
   },
   "outputs": [
    {
     "name": "stdout",
     "output_type": "stream",
     "text": [
      "user_id            int64\n",
      "Day                int64\n",
      "hour_of_start      int32\n",
      "trip_duration    float64\n",
      "origin_label       int32\n",
      "origin_lat       float64\n",
      "origin_lon       float64\n",
      "price            float64\n",
      "dtype: object\n"
     ]
    }
   ],
   "source": [
    "print(X_train.dtypes)"
   ]
  },
  {
   "cell_type": "markdown",
   "metadata": {
    "pycharm": {
     "name": "#%% md\n"
    }
   },
   "source": [
    "Based on your features and how you extracted them, you may need to use some encodings for your data. For example, if you have different classes as names (`str` data type. E.g. \"gym\") you need to make it a numeric value in order to feed it into your neural network. You can use `sklearn`'s functions (such as `LabelEncoder`, `OneHotEncoder`, `StandardScaler`, etc.) to do these kind of stuff!"
   ]
  },
  {
   "cell_type": "code",
   "execution_count": 38,
   "metadata": {
    "pycharm": {
     "name": "#%%\n"
    }
   },
   "outputs": [],
   "source": [
    "# done in the previous part"
   ]
  },
  {
   "cell_type": "markdown",
   "metadata": {
    "pycharm": {
     "name": "#%% md\n"
    }
   },
   "source": [
    "Create `train_dataset` and its loader, also create `test_dataset` and its loader. You should also create `val_dataset` and its loader if you want to use validation set. You may need to implement a custom `torch.Dataset` class for your ease. Your loaders should be able to load data in batches."
   ]
  },
  {
   "cell_type": "code",
   "execution_count": 39,
   "metadata": {
    "pycharm": {
     "name": "#%%\n"
    }
   },
   "outputs": [],
   "source": [
    "class CustomDataset(Dataset):\n",
    "    def __init__(self, features, labels):\n",
    "        self.features = features\n",
    "        self.labels = labels\n",
    "\n",
    "    def __len__(self):\n",
    "        return len(self.features)\n",
    "\n",
    "    def __getitem__(self, idx):\n",
    "        feature = self.features.iloc[idx]\n",
    "        label = self.labels.iloc[idx]\n",
    "        return torch.tensor(feature, dtype=torch.float32), torch.tensor(label, dtype=torch.long)\n",
    "\n",
    "train_dataset = CustomDataset(X_train, y_train)\n",
    "val_dataset = CustomDataset(X_val, y_val)\n",
    "test_dataset = CustomDataset(X_test, y_test)\n",
    "\n",
    "batch_size = 64\n",
    "\n",
    "train_loader = DataLoader(train_dataset, batch_size=batch_size, shuffle=True)\n",
    "val_loader = DataLoader(val_dataset, batch_size=batch_size, shuffle=False)\n",
    "test_loader = DataLoader(test_dataset, batch_size=batch_size, shuffle=False)"
   ]
  },
  {
   "cell_type": "markdown",
   "metadata": {
    "pycharm": {
     "name": "#%% md\n"
    }
   },
   "source": [
    "## Neural Network Model"
   ]
  },
  {
   "cell_type": "markdown",
   "metadata": {
    "pycharm": {
     "name": "#%% md\n"
    }
   },
   "source": [
    "Here, you should implement your neural network model. You should use `pytorch`. **Note** that you should plot the loss function of your model during the training phase. (on both training and validation sets)"
   ]
  },
  {
   "cell_type": "code",
   "execution_count": 40,
   "metadata": {
    "pycharm": {
     "name": "#%%\n"
    }
   },
   "outputs": [],
   "source": [
    "class MLP(nn.Module):\n",
    "    def __init__(self, input_dim, output_dim):\n",
    "        super(MLP, self).__init__()\n",
    "        # Define the architecture of the network\n",
    "        self.fc1 = nn.Linear(input_dim, 64) # First hidden layer\n",
    "        self.fc2 = nn.Linear(64, 64)        # Second hidden layer\n",
    "        self.fc3 = nn.Linear(64, output_dim) # Output layer\n",
    "\n",
    "    def forward(self, x):\n",
    "        x = F.relu(self.fc1(x)) # Activation function for hidden layer\n",
    "        x = F.relu(self.fc2(x)) # Activation function for hidden layer\n",
    "        x = self.fc3(x)\n",
    "        return x\n",
    "\n",
    "number_of_unique_destinations = data_train['destination_label'].nunique()\n",
    "model = MLP(input_dim=8, output_dim=number_of_unique_destinations)\n",
    "criterion = nn.CrossEntropyLoss()  # Common choice for classification tasks\n",
    "optimizer = optim.Adam(model.parameters(), lr=0.001)  # Common choice for optimization\n",
    "\n",
    "def train_model(model, train_loader, val_loader, criterion, optimizer, epochs):\n",
    "    train_losses, val_losses = [], []\n",
    "\n",
    "    for epoch in range(epochs):\n",
    "        model.train()\n",
    "        running_loss = 0.0\n",
    "\n",
    "        for inputs, labels in train_loader:\n",
    "            optimizer.zero_grad()\n",
    "            outputs = model(inputs)\n",
    "            loss = criterion(outputs, labels)\n",
    "            loss.backward()\n",
    "            optimizer.step()\n",
    "            running_loss += loss.item()\n",
    "\n",
    "        train_losses.append(running_loss / len(train_loader))\n",
    "\n",
    "        model.eval()\n",
    "        val_loss = 0.0\n",
    "        with torch.no_grad():\n",
    "            for inputs, labels in val_loader:\n",
    "                outputs = model(inputs)\n",
    "                loss = criterion(outputs, labels)\n",
    "                val_loss += loss.item()\n",
    "        val_losses.append(val_loss / len(val_loader))\n",
    "\n",
    "        print(f\"Epoch {epoch+1}/{epochs} - Training Loss: {train_losses[-1]:.4f}, Validation Loss: {val_losses[-1]:.4f}\")\n",
    "\n",
    "    # Plotting training and validation losses\n",
    "    plt.plot(range(1, epochs+1), train_losses, label='Training Loss')\n",
    "    plt.plot(range(1, epochs+1), val_losses, label='Validation Loss')\n",
    "    plt.xlabel('Epochs')\n",
    "    plt.ylabel('Loss')\n",
    "    plt.legend()\n",
    "    plt.show()"
   ]
  },
  {
   "cell_type": "code",
   "execution_count": 41,
   "metadata": {
    "pycharm": {
     "name": "#%%\n"
    }
   },
   "outputs": [
    {
     "name": "stdout",
     "output_type": "stream",
     "text": [
      "Epoch 1/100 - Training Loss: 1.4009, Validation Loss: 1.2105\n",
      "Epoch 2/100 - Training Loss: 1.1304, Validation Loss: 1.1223\n",
      "Epoch 3/100 - Training Loss: 1.0677, Validation Loss: 1.0700\n",
      "Epoch 4/100 - Training Loss: 1.0107, Validation Loss: 1.0402\n",
      "Epoch 5/100 - Training Loss: 0.9441, Validation Loss: 0.9516\n",
      "Epoch 6/100 - Training Loss: 0.8823, Validation Loss: 0.9105\n",
      "Epoch 7/100 - Training Loss: 0.8279, Validation Loss: 0.8558\n",
      "Epoch 8/100 - Training Loss: 0.7809, Validation Loss: 0.7856\n",
      "Epoch 9/100 - Training Loss: 0.7320, Validation Loss: 0.7299\n",
      "Epoch 10/100 - Training Loss: 0.6834, Validation Loss: 0.6925\n",
      "Epoch 11/100 - Training Loss: 0.6458, Validation Loss: 0.6707\n",
      "Epoch 12/100 - Training Loss: 0.6251, Validation Loss: 0.6386\n",
      "Epoch 13/100 - Training Loss: 0.6013, Validation Loss: 0.6086\n",
      "Epoch 14/100 - Training Loss: 0.5778, Validation Loss: 0.5817\n",
      "Epoch 15/100 - Training Loss: 0.5554, Validation Loss: 0.5709\n",
      "Epoch 16/100 - Training Loss: 0.5347, Validation Loss: 0.5434\n",
      "Epoch 17/100 - Training Loss: 0.5194, Validation Loss: 0.5439\n",
      "Epoch 18/100 - Training Loss: 0.5028, Validation Loss: 0.5340\n",
      "Epoch 19/100 - Training Loss: 0.4857, Validation Loss: 0.4933\n",
      "Epoch 20/100 - Training Loss: 0.4655, Validation Loss: 0.4828\n",
      "Epoch 21/100 - Training Loss: 0.4543, Validation Loss: 0.4684\n",
      "Epoch 22/100 - Training Loss: 0.4419, Validation Loss: 0.4649\n",
      "Epoch 23/100 - Training Loss: 0.4304, Validation Loss: 0.4342\n",
      "Epoch 24/100 - Training Loss: 0.4175, Validation Loss: 0.4600\n",
      "Epoch 25/100 - Training Loss: 0.4082, Validation Loss: 0.4178\n",
      "Epoch 26/100 - Training Loss: 0.3991, Validation Loss: 0.4190\n",
      "Epoch 27/100 - Training Loss: 0.3937, Validation Loss: 0.4113\n",
      "Epoch 28/100 - Training Loss: 0.3789, Validation Loss: 0.3889\n",
      "Epoch 29/100 - Training Loss: 0.3699, Validation Loss: 0.4169\n",
      "Epoch 30/100 - Training Loss: 0.3639, Validation Loss: 0.3827\n",
      "Epoch 31/100 - Training Loss: 0.3488, Validation Loss: 0.3768\n",
      "Epoch 32/100 - Training Loss: 0.3441, Validation Loss: 0.3717\n",
      "Epoch 33/100 - Training Loss: 0.3396, Validation Loss: 0.3751\n",
      "Epoch 34/100 - Training Loss: 0.3269, Validation Loss: 0.3416\n",
      "Epoch 35/100 - Training Loss: 0.3188, Validation Loss: 0.3819\n",
      "Epoch 36/100 - Training Loss: 0.3196, Validation Loss: 0.3689\n",
      "Epoch 37/100 - Training Loss: 0.3135, Validation Loss: 0.3285\n",
      "Epoch 38/100 - Training Loss: 0.3065, Validation Loss: 0.3329\n",
      "Epoch 39/100 - Training Loss: 0.3009, Validation Loss: 0.3137\n",
      "Epoch 40/100 - Training Loss: 0.2937, Validation Loss: 0.3388\n",
      "Epoch 41/100 - Training Loss: 0.2937, Validation Loss: 0.3264\n",
      "Epoch 42/100 - Training Loss: 0.2872, Validation Loss: 0.3207\n",
      "Epoch 43/100 - Training Loss: 0.2913, Validation Loss: 0.3278\n",
      "Epoch 44/100 - Training Loss: 0.2841, Validation Loss: 0.3003\n",
      "Epoch 45/100 - Training Loss: 0.2788, Validation Loss: 0.3377\n",
      "Epoch 46/100 - Training Loss: 0.2773, Validation Loss: 0.3175\n",
      "Epoch 47/100 - Training Loss: 0.2831, Validation Loss: 0.3145\n",
      "Epoch 48/100 - Training Loss: 0.2695, Validation Loss: 0.2996\n",
      "Epoch 49/100 - Training Loss: 0.2690, Validation Loss: 0.3000\n",
      "Epoch 50/100 - Training Loss: 0.2682, Validation Loss: 0.2959\n",
      "Epoch 51/100 - Training Loss: 0.2643, Validation Loss: 0.2800\n",
      "Epoch 52/100 - Training Loss: 0.2646, Validation Loss: 0.3025\n",
      "Epoch 53/100 - Training Loss: 0.2615, Validation Loss: 0.2958\n",
      "Epoch 54/100 - Training Loss: 0.2574, Validation Loss: 0.2916\n",
      "Epoch 55/100 - Training Loss: 0.2622, Validation Loss: 0.3090\n",
      "Epoch 56/100 - Training Loss: 0.2531, Validation Loss: 0.3344\n",
      "Epoch 57/100 - Training Loss: 0.2523, Validation Loss: 0.2760\n",
      "Epoch 58/100 - Training Loss: 0.2505, Validation Loss: 0.2944\n",
      "Epoch 59/100 - Training Loss: 0.2522, Validation Loss: 0.2736\n",
      "Epoch 60/100 - Training Loss: 0.2481, Validation Loss: 0.2708\n",
      "Epoch 61/100 - Training Loss: 0.2504, Validation Loss: 0.3087\n",
      "Epoch 62/100 - Training Loss: 0.2484, Validation Loss: 0.2588\n",
      "Epoch 63/100 - Training Loss: 0.2508, Validation Loss: 0.2778\n",
      "Epoch 64/100 - Training Loss: 0.2463, Validation Loss: 0.2728\n",
      "Epoch 65/100 - Training Loss: 0.2442, Validation Loss: 0.2717\n",
      "Epoch 66/100 - Training Loss: 0.2482, Validation Loss: 0.2990\n",
      "Epoch 67/100 - Training Loss: 0.2444, Validation Loss: 0.2749\n",
      "Epoch 68/100 - Training Loss: 0.2424, Validation Loss: 0.2634\n",
      "Epoch 69/100 - Training Loss: 0.2364, Validation Loss: 0.2772\n",
      "Epoch 70/100 - Training Loss: 0.2402, Validation Loss: 0.2740\n",
      "Epoch 71/100 - Training Loss: 0.2366, Validation Loss: 0.2645\n",
      "Epoch 72/100 - Training Loss: 0.2377, Validation Loss: 0.2680\n",
      "Epoch 73/100 - Training Loss: 0.2373, Validation Loss: 0.2580\n",
      "Epoch 74/100 - Training Loss: 0.2369, Validation Loss: 0.2607\n",
      "Epoch 75/100 - Training Loss: 0.2321, Validation Loss: 0.2859\n",
      "Epoch 76/100 - Training Loss: 0.2350, Validation Loss: 0.2706\n",
      "Epoch 77/100 - Training Loss: 0.2357, Validation Loss: 0.2674\n",
      "Epoch 78/100 - Training Loss: 0.2340, Validation Loss: 0.2686\n",
      "Epoch 79/100 - Training Loss: 0.2355, Validation Loss: 0.2624\n",
      "Epoch 80/100 - Training Loss: 0.2317, Validation Loss: 0.2770\n",
      "Epoch 81/100 - Training Loss: 0.2310, Validation Loss: 0.2843\n",
      "Epoch 82/100 - Training Loss: 0.2341, Validation Loss: 0.2522\n",
      "Epoch 83/100 - Training Loss: 0.2265, Validation Loss: 0.2747\n",
      "Epoch 84/100 - Training Loss: 0.2319, Validation Loss: 0.2573\n",
      "Epoch 85/100 - Training Loss: 0.2298, Validation Loss: 0.2533\n",
      "Epoch 86/100 - Training Loss: 0.2248, Validation Loss: 0.2595\n",
      "Epoch 87/100 - Training Loss: 0.2290, Validation Loss: 0.2475\n",
      "Epoch 88/100 - Training Loss: 0.2373, Validation Loss: 0.2570\n",
      "Epoch 89/100 - Training Loss: 0.2261, Validation Loss: 0.2568\n",
      "Epoch 90/100 - Training Loss: 0.2243, Validation Loss: 0.2459\n",
      "Epoch 91/100 - Training Loss: 0.2277, Validation Loss: 0.2514\n",
      "Epoch 92/100 - Training Loss: 0.2271, Validation Loss: 0.2499\n",
      "Epoch 93/100 - Training Loss: 0.2230, Validation Loss: 0.2528\n",
      "Epoch 94/100 - Training Loss: 0.2262, Validation Loss: 0.2382\n",
      "Epoch 95/100 - Training Loss: 0.2230, Validation Loss: 0.2516\n",
      "Epoch 96/100 - Training Loss: 0.2221, Validation Loss: 0.2624\n",
      "Epoch 97/100 - Training Loss: 0.2188, Validation Loss: 0.2694\n",
      "Epoch 98/100 - Training Loss: 0.2251, Validation Loss: 0.2477\n",
      "Epoch 99/100 - Training Loss: 0.2208, Validation Loss: 0.2443\n",
      "Epoch 100/100 - Training Loss: 0.2160, Validation Loss: 0.2542\n"
     ]
    },
    {
     "data": {
      "text/plain": "<Figure size 640x480 with 1 Axes>",
      "image/png": "[encoded data removed]"
     },
     "metadata": {},
     "output_type": "display_data"
    }
   ],
   "source": [
    "train_model(model, train_loader, val_loader, criterion, optimizer, epochs=100)"
   ]
  },
  {
   "cell_type": "markdown",
   "metadata": {
    "pycharm": {
     "name": "#%% md\n"
    }
   },
   "source": [
    "## Evaluate Neural Network Model"
   ]
  },
  {
   "cell_type": "markdown",
   "metadata": {
    "pycharm": {
     "name": "#%% md\n"
    }
   },
   "source": [
    "Report the model's accuracy on the test set."
   ]
  },
  {
   "cell_type": "code",
   "execution_count": 42,
   "metadata": {
    "pycharm": {
     "name": "#%%\n"
    }
   },
   "outputs": [],
   "source": [
    "def calculate_accuracy(model, test_loader):\n",
    "    correct = 0\n",
    "    total = 0\n",
    "\n",
    "    with torch.no_grad():\n",
    "        for inputs, labels in test_loader:\n",
    "            outputs = model(inputs)\n",
    "            _, predicted = torch.max(outputs.data, 1)\n",
    "            total += labels.size(0)\n",
    "            correct += (predicted == labels).sum().item()\n",
    "\n",
    "    accuracy = 100 * correct / total\n",
    "    return accuracy"
   ]
  },
  {
   "cell_type": "code",
   "execution_count": 43,
   "outputs": [
    {
     "name": "stdout",
     "output_type": "stream",
     "text": [
      "Accuracy of the model on the test data is: 90.93%\n"
     ]
    }
   ],
   "source": [
    "accuracy = calculate_accuracy(model, test_loader)\n",
    "print(f'Accuracy of the model on the test data is: {accuracy:.2f}%')"
   ],
   "metadata": {
    "collapsed": false,
    "pycharm": {
     "name": "#%%\n"
    }
   }
  },
  {
   "cell_type": "markdown",
   "metadata": {
    "pycharm": {
     "name": "#%% md\n"
    }
   },
   "source": [
    "Just for the sake of curiosity, let's take a random sample from the test set and see the model's prediction. So, randomly choose a sample from the test set and print it out (to see its features and also the correct output). Then, feed the features into your model and see what it predicts. Is it correct?"
   ]
  },
  {
   "cell_type": "code",
   "execution_count": 44,
   "metadata": {
    "pycharm": {
     "name": "#%%\n"
    }
   },
   "outputs": [
    {
     "data": {
      "text/plain": "      user_id  Day  hour_of_start  trip_duration  origin_label  origin_lat  \\\n4201        3    2              7           19.0             1       35.62   \n\n      origin_lon  price  \n4201      51.275   10.0  ",
      "text/html": "<div>\n<style scoped>\n    .dataframe tbody tr th:only-of-type {\n        vertical-align: middle;\n    }\n\n    .dataframe tbody tr th {\n        vertical-align: top;\n    }\n\n    .dataframe thead th {\n        text-align: right;\n    }\n</style>\n<table border=\"1\" class=\"dataframe\">\n  <thead>\n    <tr style=\"text-align: right;\">\n      <th></th>\n      <th>user_id</th>\n      <th>Day</th>\n      <th>hour_of_start</th>\n      <th>trip_duration</th>\n      <th>origin_label</th>\n      <th>origin_lat</th>\n      <th>origin_lon</th>\n      <th>price</th>\n    </tr>\n  </thead>\n  <tbody>\n    <tr>\n      <th>4201</th>\n      <td>3</td>\n      <td>2</td>\n      <td>7</td>\n      <td>19.0</td>\n      <td>1</td>\n      <td>35.62</td>\n      <td>51.275</td>\n      <td>10.0</td>\n    </tr>\n  </tbody>\n</table>\n</div>"
     },
     "execution_count": 44,
     "metadata": {},
     "output_type": "execute_result"
    }
   ],
   "source": [
    "sample = X_test.sample(n=1)\n",
    "sample"
   ]
  },
  {
   "cell_type": "code",
   "execution_count": 46,
   "outputs": [
    {
     "data": {
      "text/plain": "4201    [work, [35.625, 51.375]]\nName: destination, dtype: object"
     },
     "execution_count": 46,
     "metadata": {},
     "output_type": "execute_result"
    }
   ],
   "source": [
    "data_test.iloc[sample.index]['destination']"
   ],
   "metadata": {
    "collapsed": false,
    "pycharm": {
     "name": "#%%\n"
    }
   }
  },
  {
   "cell_type": "code",
   "execution_count": 47,
   "metadata": {
    "pycharm": {
     "name": "#%%\n"
    }
   },
   "outputs": [
    {
     "data": {
      "text/plain": "6"
     },
     "execution_count": 47,
     "metadata": {},
     "output_type": "execute_result"
    }
   ],
   "source": [
    "sample_tensor = torch.tensor(sample.values, dtype=torch.float32)\n",
    "sample_tensor = sample_tensor.reshape(1, -1)\n",
    "with torch.no_grad():\n",
    "    output = model(sample_tensor)\n",
    "    _, predicted_label = torch.max(output, 1)\n",
    "predicted_label.item()"
   ]
  },
  {
   "cell_type": "code",
   "execution_count": 48,
   "metadata": {
    "pycharm": {
     "name": "#%%\n"
    }
   },
   "outputs": [
    {
     "data": {
      "text/plain": "6"
     },
     "execution_count": 48,
     "metadata": {},
     "output_type": "execute_result"
    }
   ],
   "source": [
    "y_test.iloc[sample.index].values[0]"
   ]
  },
  {
   "cell_type": "markdown",
   "metadata": {
    "pycharm": {
     "name": "#%% md\n"
    }
   },
   "source": [
    "Now, use the inverse transform of the encoding you used earlier to get the name of the destination from the predicted class. Print it out and see if it's correct."
   ]
  },
  {
   "cell_type": "code",
   "execution_count": 49,
   "metadata": {
    "pycharm": {
     "name": "#%%\n"
    }
   },
   "outputs": [
    {
     "data": {
      "text/plain": "'work'"
     },
     "execution_count": 49,
     "metadata": {},
     "output_type": "execute_result"
    }
   ],
   "source": [
    "test_label_encoder.inverse_transform(predicted_label.numpy())[0]"
   ]
  },
  {
   "cell_type": "markdown",
   "metadata": {
    "pycharm": {
     "name": "#%% md\n"
    }
   },
   "source": [
    "**QUESTION**: What do you think about this approach? Is it a good idea to use Neural Networks for this problem? Why (or why not)? If the patterns in our datatset (passengers' history) get more complicated, will our model be robust to it in comparison to other models?\n",
    "\n",
    "Your Answer:\n",
    "***\n",
    "\n",
    "***Using neural networks for this type of prediction problem can be effective, especially if the dataset is large and contains complex, non-linear relationships. Neural networks excel in learning intricate patterns from high-dimensional data, but they require sufficient data and computational resources. However, they might be overkill for simpler, smaller datasets and can be prone to overfitting without proper regularization.***\n",
    "\n",
    "***Compared to KNN and XGBoost, neural networks generally handle high-dimensional, complex data better but are more resource-intensive and less interpretable. KNN is simpler and works well with smaller datasets but struggles with high dimensionality and larger datasets. XGBoost is powerful for structured/tabular data, offers good performance with less computational cost than neural networks, and is often easier to tune and interpret than deep learning models.***\n",
    "\n",
    "***"
   ]
  },
  {
   "cell_type": "markdown",
   "metadata": {
    "pycharm": {
     "name": "#%% md\n"
    }
   },
   "source": [
    "# How to Submit:\n",
    "\n",
    "Please upload your notebook (`.ipynb`) compressed (as a `.zip` file) or uncompressed on Quera. **Note** that for each part, the accuracy of your model on the given test dataset is important. So, your accuracy should be **at least** same as ours (or better). Also, we will check your code after the submission. So, please make sure that there are no **data snooping** or **data leakage** in your code. You **can not** use the test data in any stages for your model, except for the final evaluation part! So, please be ware of that, or you may lose points.\n",
    "\n",
    "Your project is graded via 2 main parts: \n",
    "1. Checking out your implementation (to check if there are no \"data snooping\" and \"data leakage\") \n",
    "   \n",
    "2. Checking accuracies of your models on the test set. \n",
    "\n",
    "3. Running again your code by you in the \"in-person\" session and hearing your explanations (on the parts that we asked questions about the models, overfitting and etc. with tag \"QUESTION\" in the notebook)."
   ]
  },
  {
   "cell_type": "markdown",
   "metadata": {
    "pycharm": {
     "name": "#%% md\n"
    }
   },
   "source": []
  }
 ],
 "metadata": {
  "kernelspec": {
   "display_name": "venv",
   "language": "python",
   "name": "python3"
  },
  "language_info": {
   "codemirror_mode": {
    "name": "ipython",
    "version": 3
   },
   "file_extension": ".py",
   "mimetype": "text/x-python",
   "name": "python",
   "nbconvert_exporter": "python",
   "pygments_lexer": "ipython3",
   "version": "3.10.8"
  }
 },
 "nbformat": 4,
 "nbformat_minor": 2
}